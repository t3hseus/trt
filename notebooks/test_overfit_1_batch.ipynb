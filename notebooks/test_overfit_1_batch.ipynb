{
 "cells": [
  {
   "cell_type": "code",
   "execution_count": 1,
   "metadata": {},
   "outputs": [],
   "source": [
    "import os\n",
    "from pathlib import Path\n",
    "# change working directory to make src visible\n",
    "os.chdir(Path.cwd().parent)"
   ]
  },
  {
   "cell_type": "code",
   "execution_count": 2,
   "metadata": {},
   "outputs": [
    {
     "name": "stderr",
     "output_type": "stream",
     "text": [
      "Seed set to 13\n"
     ]
    },
    {
     "data": {
      "text/plain": [
       "13"
      ]
     },
     "execution_count": 2,
     "metadata": {},
     "output_type": "execute_result"
    }
   ],
   "source": [
    "import numpy as np\n",
    "import os\n",
    "\n",
    "from pytorch_lightning import seed_everything\n",
    "from torch.utils.data import DataLoader\n",
    "\n",
    "from src.visualization import draw_event\n",
    "from src.dataset import SPDEventsDataset\n",
    "from src.data_generation import SPDEventGenerator\n",
    "from src.normalization import ConstraintsNormalizer, TrackParamsNormalizer\n",
    "from src.dataset import collate_fn_for_set_loss\n",
    "from src.model import TRT\n",
    "\n",
    "seed_everything(13)"
   ]
  },
  {
   "cell_type": "markdown",
   "metadata": {},
   "source": [
    "## Prepare single batch for overfitting"
   ]
  },
  {
   "cell_type": "code",
   "execution_count": 3,
   "metadata": {},
   "outputs": [],
   "source": [
    "MAX_EVENT_TRACKS = 5\n",
    "TRUNCATION_LENGTH = 512\n",
    "BATCH_SIZE = 16"
   ]
  },
  {
   "cell_type": "code",
   "execution_count": 4,
   "metadata": {},
   "outputs": [],
   "source": [
    "hits_norm = ConstraintsNormalizer()\n",
    "params_norm = TrackParamsNormalizer()\n",
    "train_data = SPDEventsDataset(\n",
    "    max_event_tracks=MAX_EVENT_TRACKS,\n",
    "    generate_fixed_tracks_num=False,\n",
    "    hits_normalizer=hits_norm,\n",
    "    track_params_normalizer=params_norm,\n",
    "    shuffle=True,\n",
    "    truncation_length=TRUNCATION_LENGTH\n",
    ")\n",
    "\n",
    "train_loader = DataLoader(\n",
    "    train_data,\n",
    "    batch_size=BATCH_SIZE,\n",
    "    shuffle=True,\n",
    "    collate_fn=collate_fn_for_set_loss,\n",
    "    num_workers=4,\n",
    "    pin_memory=False,\n",
    "    persistent_workers=True,\n",
    ")"
   ]
  },
  {
   "cell_type": "code",
   "execution_count": 5,
   "metadata": {},
   "outputs": [],
   "source": [
    "# read single batch for test\n",
    "for batch in train_loader:\n",
    "    break"
   ]
  },
  {
   "cell_type": "markdown",
   "metadata": {},
   "source": [
    "## Define functions for hungarian loss"
   ]
  },
  {
   "cell_type": "code",
   "execution_count": 6,
   "metadata": {},
   "outputs": [],
   "source": [
    "import torch\n",
    "import torch.nn.functional as F\n",
    "from scipy.optimize import linear_sum_assignment\n",
    "\n",
    "\n",
    "def match_targets(outputs, targets):\n",
    "    cost_matrix = torch.cdist(outputs, targets, p=1)\n",
    "    row_ind, col_ind = linear_sum_assignment(\n",
    "        cost_matrix.cpu().detach().numpy()\n",
    "    )\n",
    "    return row_ind, col_ind\n",
    "\n",
    "\n",
    "def hungarian_loss(outputs, targets):\n",
    "    row_ind, col_ind = match_targets(outputs, targets)\n",
    "    matched_outputs = outputs[row_ind]\n",
    "    matched_targets = targets[col_ind]\n",
    "    loss = F.l1_loss(matched_outputs, matched_targets)\n",
    "    return loss\n",
    "\n",
    "\n",
    "def criterion(preds, targets, preds_lengths, targets_lengths):\n",
    "    hungarian = torch.tensor(0.0)\n",
    "    for i in range(preds.shape[0]):\n",
    "        hungarian += hungarian_loss(\n",
    "            preds[i, :preds_lengths[i]],\n",
    "            targets[i, :targets_lengths[i]]\n",
    "        )\n",
    "    hungarian /= preds.shape[0]  # batchmean\n",
    "    return hungarian"
   ]
  },
  {
   "cell_type": "code",
   "execution_count": 7,
   "metadata": {},
   "outputs": [
    {
     "data": {
      "text/plain": [
       "dict_keys(['inputs', 'mask', 'targets', 'orig_params', 'n_tracks_per_sample'])"
      ]
     },
     "execution_count": 7,
     "metadata": {},
     "output_type": "execute_result"
    }
   ],
   "source": [
    "batch.keys()"
   ]
  },
  {
   "cell_type": "code",
   "execution_count": 8,
   "metadata": {},
   "outputs": [
    {
     "data": {
      "text/plain": [
       "torch.Size([16, 5, 7])"
      ]
     },
     "execution_count": 8,
     "metadata": {},
     "output_type": "execute_result"
    }
   ],
   "source": [
    "batch[\"targets\"].shape"
   ]
  },
  {
   "cell_type": "markdown",
   "metadata": {},
   "source": [
    "#### Test same inputs, but shuffled"
   ]
  },
  {
   "cell_type": "code",
   "execution_count": 9,
   "metadata": {},
   "outputs": [
    {
     "data": {
      "text/plain": [
       "tensor([2, 1, 3, 1, 5, 4, 5, 3, 3, 3, 1, 5, 3, 3, 5, 1])"
      ]
     },
     "execution_count": 9,
     "metadata": {},
     "output_type": "execute_result"
    }
   ],
   "source": [
    "batch[\"n_tracks_per_sample\"]"
   ]
  },
  {
   "cell_type": "code",
   "execution_count": 10,
   "metadata": {},
   "outputs": [],
   "source": [
    "# take a track with maximum number of tracks\n",
    "idx = slice(4, 5)"
   ]
  },
  {
   "cell_type": "code",
   "execution_count": 11,
   "metadata": {},
   "outputs": [
    {
     "name": "stdout",
     "output_type": "stream",
     "text": [
      "tensor([3, 0, 2, 4, 1])\n"
     ]
    }
   ],
   "source": [
    "rand_idx = torch.randperm(batch[\"targets\"][idx].shape[1])\n",
    "print(rand_idx)"
   ]
  },
  {
   "cell_type": "code",
   "execution_count": 12,
   "metadata": {},
   "outputs": [
    {
     "data": {
      "text/plain": [
       "tensor([[[0.4908, 0.4998, 0.4693, 0.7067, 0.8657, 0.6830, 1.0000],\n",
       "         [0.4908, 0.4998, 0.4693, 0.0214, 0.1522, 0.1365, 0.0000],\n",
       "         [0.4908, 0.4998, 0.4693, 0.9355, 0.2515, 0.4543, 1.0000],\n",
       "         [0.4908, 0.4998, 0.4693, 0.4015, 0.7486, 0.4619, 0.0000],\n",
       "         [0.4908, 0.4998, 0.4693, 0.2423, 0.5612, 0.5507, 1.0000]]])"
      ]
     },
     "execution_count": 12,
     "metadata": {},
     "output_type": "execute_result"
    }
   ],
   "source": [
    "batch[\"targets\"][idx]"
   ]
  },
  {
   "cell_type": "code",
   "execution_count": 13,
   "metadata": {},
   "outputs": [
    {
     "data": {
      "text/plain": [
       "tensor([[[0.4908, 0.4998, 0.4693, 0.4015, 0.7486, 0.4619, 0.0000],\n",
       "         [0.4908, 0.4998, 0.4693, 0.7067, 0.8657, 0.6830, 1.0000],\n",
       "         [0.4908, 0.4998, 0.4693, 0.9355, 0.2515, 0.4543, 1.0000],\n",
       "         [0.4908, 0.4998, 0.4693, 0.2423, 0.5612, 0.5507, 1.0000],\n",
       "         [0.4908, 0.4998, 0.4693, 0.0214, 0.1522, 0.1365, 0.0000]]])"
      ]
     },
     "execution_count": 13,
     "metadata": {},
     "output_type": "execute_result"
    }
   ],
   "source": [
    "batch[\"targets\"][idx][:, rand_idx]"
   ]
  },
  {
   "cell_type": "code",
   "execution_count": 14,
   "metadata": {},
   "outputs": [
    {
     "name": "stdout",
     "output_type": "stream",
     "text": [
      "[0 1 2 3 4] [3 0 2 4 1]\n"
     ]
    }
   ],
   "source": [
    "row_ind, col_ind = match_targets(\n",
    "    batch[\"targets\"][idx.start][rand_idx],\n",
    "    batch[\"targets\"][idx.start]\n",
    ")\n",
    "\n",
    "print(row_ind, col_ind)\n",
    "# check that the permutation is the same\n",
    "assert all(col_ind == rand_idx.tolist())"
   ]
  },
  {
   "cell_type": "code",
   "execution_count": 15,
   "metadata": {},
   "outputs": [
    {
     "data": {
      "text/plain": [
       "(tensor([3, 0, 2, 4, 1]), array([3, 0, 2, 4, 1]))"
      ]
     },
     "execution_count": 15,
     "metadata": {},
     "output_type": "execute_result"
    }
   ],
   "source": [
    "rand_idx, col_ind"
   ]
  },
  {
   "cell_type": "code",
   "execution_count": 16,
   "metadata": {},
   "outputs": [
    {
     "name": "stdout",
     "output_type": "stream",
     "text": [
      "tensor([[0.4908, 0.4998, 0.4693, 0.4015, 0.7486, 0.4619, 0.0000],\n",
      "        [0.4908, 0.4998, 0.4693, 0.7067, 0.8657, 0.6830, 1.0000],\n",
      "        [0.4908, 0.4998, 0.4693, 0.9355, 0.2515, 0.4543, 1.0000],\n",
      "        [0.4908, 0.4998, 0.4693, 0.2423, 0.5612, 0.5507, 1.0000],\n",
      "        [0.4908, 0.4998, 0.4693, 0.0214, 0.1522, 0.1365, 0.0000]])\n",
      "tensor([[0.4908, 0.4998, 0.4693, 0.4015, 0.7486, 0.4619, 0.0000],\n",
      "        [0.4908, 0.4998, 0.4693, 0.7067, 0.8657, 0.6830, 1.0000],\n",
      "        [0.4908, 0.4998, 0.4693, 0.9355, 0.2515, 0.4543, 1.0000],\n",
      "        [0.4908, 0.4998, 0.4693, 0.2423, 0.5612, 0.5507, 1.0000],\n",
      "        [0.4908, 0.4998, 0.4693, 0.0214, 0.1522, 0.1365, 0.0000]])\n",
      "tensor(0.)\n"
     ]
    }
   ],
   "source": [
    "matched_outputs = batch[\"targets\"][idx.start][rand_idx][row_ind]\n",
    "matched_targets = batch[\"targets\"][idx.start][col_ind]\n",
    "print(matched_outputs)\n",
    "print(matched_targets)\n",
    "loss = F.l1_loss(matched_outputs, matched_targets)\n",
    "print(loss)"
   ]
  },
  {
   "cell_type": "code",
   "execution_count": 17,
   "metadata": {},
   "outputs": [
    {
     "data": {
      "text/plain": [
       "tensor(0.)"
      ]
     },
     "execution_count": 17,
     "metadata": {},
     "output_type": "execute_result"
    }
   ],
   "source": [
    "criterion(\n",
    "    preds=batch[\"targets\"][idx],\n",
    "    targets=batch[\"targets\"][idx][:, rand_idx],\n",
    "    preds_lengths=batch[\"n_tracks_per_sample\"][idx],\n",
    "    targets_lengths=batch[\"n_tracks_per_sample\"][idx]\n",
    ")"
   ]
  },
  {
   "cell_type": "markdown",
   "metadata": {},
   "source": [
    "#### Test shuffled and expanded"
   ]
  },
  {
   "cell_type": "code",
   "execution_count": 18,
   "metadata": {},
   "outputs": [],
   "source": [
    "# create a copy of tensors\n",
    "preds = batch[\"targets\"][idx].clone()\n",
    "targets = batch[\"targets\"][idx].clone()\n",
    "preds_lengths = batch[\"n_tracks_per_sample\"][idx].clone()\n",
    "targets_lengths = batch[\"n_tracks_per_sample\"][idx].clone()"
   ]
  },
  {
   "cell_type": "code",
   "execution_count": 19,
   "metadata": {},
   "outputs": [
    {
     "name": "stdout",
     "output_type": "stream",
     "text": [
      "Permutation indices: tensor([4, 3, 1, 2, 0])\n",
      "torch.Size([1, 5, 7])\n",
      "torch.Size([1, 10, 7])\n"
     ]
    }
   ],
   "source": [
    "# shuffle and expand predictions\n",
    "rand_idx = torch.randperm(preds.shape[1])\n",
    "print(\"Permutation indices:\", rand_idx)\n",
    "\n",
    "preds = preds[:, rand_idx]\n",
    "print(preds.shape)\n",
    "\n",
    "padded_preds = torch.zeros(\n",
    "    preds.shape[0],\n",
    "    preds.shape[1] + 5,\n",
    "    preds.shape[2])\n",
    "padded_preds[:, :preds.shape[1]] = preds.clone()\n",
    "print(padded_preds.shape)"
   ]
  },
  {
   "cell_type": "code",
   "execution_count": 20,
   "metadata": {},
   "outputs": [
    {
     "name": "stdout",
     "output_type": "stream",
     "text": [
      "tensor([[[0.4908, 0.4998, 0.4693, 0.2423, 0.5612, 0.5507, 1.0000],\n",
      "         [0.4908, 0.4998, 0.4693, 0.4015, 0.7486, 0.4619, 0.0000],\n",
      "         [0.4908, 0.4998, 0.4693, 0.0214, 0.1522, 0.1365, 0.0000],\n",
      "         [0.4908, 0.4998, 0.4693, 0.9355, 0.2515, 0.4543, 1.0000],\n",
      "         [0.4908, 0.4998, 0.4693, 0.7067, 0.8657, 0.6830, 1.0000]]])\n",
      "\n",
      "tensor([[[0.4908, 0.4998, 0.4693, 0.2423, 0.5612, 0.5507, 1.0000],\n",
      "         [0.4908, 0.4998, 0.4693, 0.4015, 0.7486, 0.4619, 0.0000],\n",
      "         [0.4908, 0.4998, 0.4693, 0.0214, 0.1522, 0.1365, 0.0000],\n",
      "         [0.4908, 0.4998, 0.4693, 0.9355, 0.2515, 0.4543, 1.0000],\n",
      "         [0.4908, 0.4998, 0.4693, 0.7067, 0.8657, 0.6830, 1.0000],\n",
      "         [0.0000, 0.0000, 0.0000, 0.0000, 0.0000, 0.0000, 0.0000],\n",
      "         [0.0000, 0.0000, 0.0000, 0.0000, 0.0000, 0.0000, 0.0000],\n",
      "         [0.0000, 0.0000, 0.0000, 0.0000, 0.0000, 0.0000, 0.0000],\n",
      "         [0.0000, 0.0000, 0.0000, 0.0000, 0.0000, 0.0000, 0.0000],\n",
      "         [0.0000, 0.0000, 0.0000, 0.0000, 0.0000, 0.0000, 0.0000]]])\n"
     ]
    }
   ],
   "source": [
    "print(preds)\n",
    "print()\n",
    "print(padded_preds)"
   ]
  },
  {
   "cell_type": "code",
   "execution_count": 21,
   "metadata": {},
   "outputs": [
    {
     "data": {
      "text/plain": [
       "tensor(0.)"
      ]
     },
     "execution_count": 21,
     "metadata": {},
     "output_type": "execute_result"
    }
   ],
   "source": [
    "criterion(\n",
    "    preds=padded_preds,\n",
    "    targets=targets,\n",
    "    preds_lengths=preds_lengths,\n",
    "    targets_lengths=targets_lengths\n",
    ")"
   ]
  },
  {
   "cell_type": "markdown",
   "metadata": {},
   "source": [
    "#### Test correctly predicted tracks + random"
   ]
  },
  {
   "cell_type": "code",
   "execution_count": 22,
   "metadata": {},
   "outputs": [
    {
     "data": {
      "text/plain": [
       "tensor([2, 1, 3, 1, 5, 4, 5, 3, 3, 3, 1, 5, 3, 3, 5, 1])"
      ]
     },
     "execution_count": 22,
     "metadata": {},
     "output_type": "execute_result"
    }
   ],
   "source": [
    "batch[\"n_tracks_per_sample\"]"
   ]
  },
  {
   "cell_type": "code",
   "execution_count": 23,
   "metadata": {},
   "outputs": [],
   "source": [
    "# take event with at least two tracks\n",
    "idx2 = slice(2, 3)"
   ]
  },
  {
   "cell_type": "code",
   "execution_count": 24,
   "metadata": {},
   "outputs": [
    {
     "data": {
      "text/plain": [
       "tensor([[[0.4908, 0.4998, 0.4693, 0.7067, 0.8657, 0.6830, 1.0000],\n",
       "         [0.4908, 0.4998, 0.4693, 0.0214, 0.1522, 0.1365, 0.0000],\n",
       "         [0.4908, 0.4998, 0.4693, 0.9355, 0.2515, 0.4543, 1.0000],\n",
       "         [0.4908, 0.4998, 0.4693, 0.4015, 0.7486, 0.4619, 0.0000],\n",
       "         [0.4908, 0.4998, 0.4693, 0.2423, 0.5612, 0.5507, 1.0000]]])"
      ]
     },
     "execution_count": 24,
     "metadata": {},
     "output_type": "execute_result"
    }
   ],
   "source": [
    "batch[\"targets\"][idx]"
   ]
  },
  {
   "cell_type": "code",
   "execution_count": 25,
   "metadata": {},
   "outputs": [
    {
     "data": {
      "text/plain": [
       "tensor([[[0.5059, 0.4981, 0.5559, 0.5204, 0.8110, 0.2880, 0.0000],\n",
       "         [0.5059, 0.4981, 0.5559, 0.4023, 0.9057, 0.4842, 0.0000],\n",
       "         [0.5059, 0.4981, 0.5559, 0.2223, 0.6505, 0.1441, 0.0000],\n",
       "         [0.0000, 0.0000, 0.0000, 0.0000, 0.0000, 0.0000, 0.0000],\n",
       "         [0.0000, 0.0000, 0.0000, 0.0000, 0.0000, 0.0000, 0.0000]]])"
      ]
     },
     "execution_count": 25,
     "metadata": {},
     "output_type": "execute_result"
    }
   ],
   "source": [
    "batch[\"targets\"][idx2]"
   ]
  },
  {
   "cell_type": "code",
   "execution_count": 26,
   "metadata": {},
   "outputs": [
    {
     "name": "stdout",
     "output_type": "stream",
     "text": [
      "tensor([[[0.4908, 0.4998, 0.4693, 0.7067, 0.8657, 0.6830, 1.0000],\n",
      "         [0.4908, 0.4998, 0.4693, 0.0214, 0.1522, 0.1365, 0.0000],\n",
      "         [0.4908, 0.4998, 0.4693, 0.9355, 0.2515, 0.4543, 1.0000],\n",
      "         [0.4908, 0.4998, 0.4693, 0.4015, 0.7486, 0.4619, 0.0000],\n",
      "         [0.4908, 0.4998, 0.4693, 0.2423, 0.5612, 0.5507, 1.0000],\n",
      "         [0.5059, 0.4981, 0.5559, 0.5204, 0.8110, 0.2880, 0.0000],\n",
      "         [0.5059, 0.4981, 0.5559, 0.4023, 0.9057, 0.4842, 0.0000],\n",
      "         [0.5059, 0.4981, 0.5559, 0.2223, 0.6505, 0.1441, 0.0000],\n",
      "         [0.0000, 0.0000, 0.0000, 0.0000, 0.0000, 0.0000, 0.0000],\n",
      "         [0.0000, 0.0000, 0.0000, 0.0000, 0.0000, 0.0000, 0.0000]]])\n",
      "tensor([8])\n",
      "Permutation indices: tensor([4, 5, 2, 0, 6, 7, 1, 3])\n",
      "tensor([[[0.4908, 0.4998, 0.4693, 0.2423, 0.5612, 0.5507, 1.0000],\n",
      "         [0.5059, 0.4981, 0.5559, 0.5204, 0.8110, 0.2880, 0.0000],\n",
      "         [0.4908, 0.4998, 0.4693, 0.9355, 0.2515, 0.4543, 1.0000],\n",
      "         [0.4908, 0.4998, 0.4693, 0.7067, 0.8657, 0.6830, 1.0000],\n",
      "         [0.5059, 0.4981, 0.5559, 0.4023, 0.9057, 0.4842, 0.0000],\n",
      "         [0.5059, 0.4981, 0.5559, 0.2223, 0.6505, 0.1441, 0.0000],\n",
      "         [0.4908, 0.4998, 0.4693, 0.0214, 0.1522, 0.1365, 0.0000],\n",
      "         [0.4908, 0.4998, 0.4693, 0.4015, 0.7486, 0.4619, 0.0000],\n",
      "         [0.0000, 0.0000, 0.0000, 0.0000, 0.0000, 0.0000, 0.0000],\n",
      "         [0.0000, 0.0000, 0.0000, 0.0000, 0.0000, 0.0000, 0.0000]]])\n"
     ]
    }
   ],
   "source": [
    "# create a copy of tensors\n",
    "preds = batch[\"targets\"][idx].clone()\n",
    "targets = batch[\"targets\"][idx].clone()\n",
    "preds_lengths = batch[\"n_tracks_per_sample\"][idx].clone()\n",
    "targets_lengths = batch[\"n_tracks_per_sample\"][idx].clone()\n",
    "\n",
    "# targets + random predictions\n",
    "preds_targets_random = torch.hstack([preds, batch[\"targets\"][idx2]])\n",
    "preds_targets_random_lengths = torch.LongTensor(\n",
    "    [batch[\"n_tracks_per_sample\"][idx.start] + batch[\"n_tracks_per_sample\"][idx2.start]])\n",
    "print(preds_targets_random)\n",
    "print(preds_targets_random_lengths)\n",
    "\n",
    "# shuffle and expand predictions\n",
    "# calculate random indices for everything except padding\n",
    "rand_idx = torch.randperm(preds_targets_random_lengths[0])\n",
    "print(\"Permutation indices:\", rand_idx)\n",
    "preds_targets_random[:, :preds_targets_random_lengths[0]\n",
    "                     ] = preds_targets_random[:, :preds_targets_random_lengths[0]][:, rand_idx]\n",
    "print(preds_targets_random)"
   ]
  },
  {
   "cell_type": "code",
   "execution_count": 27,
   "metadata": {},
   "outputs": [
    {
     "data": {
      "text/plain": [
       "tensor(0.)"
      ]
     },
     "execution_count": 27,
     "metadata": {},
     "output_type": "execute_result"
    }
   ],
   "source": [
    "criterion(\n",
    "    preds=preds_targets_random,\n",
    "    targets=targets,\n",
    "    preds_lengths=preds_targets_random_lengths,\n",
    "    targets_lengths=targets_lengths\n",
    ")"
   ]
  },
  {
   "cell_type": "markdown",
   "metadata": {},
   "source": [
    "## Prepare loss and overfit on a single batch"
   ]
  },
  {
   "cell_type": "code",
   "execution_count": 55,
   "metadata": {},
   "outputs": [],
   "source": [
    "import torch\n",
    "import torch.nn.functional as F\n",
    "from torch import nn\n",
    "from scipy.optimize import linear_sum_assignment\n",
    "from typing import Callable\n",
    "\n",
    "\n",
    "def match_targets(outputs, targets):\n",
    "    cost_matrix = torch.cdist(outputs, targets, p=1)\n",
    "    row_ind, col_ind = linear_sum_assignment(\n",
    "        cost_matrix.cpu().detach().numpy()\n",
    "    )\n",
    "    return row_ind, col_ind\n",
    "\n",
    "\n",
    "def hungarian_loss(outputs, targets, distance: Callable):\n",
    "    row_ind, col_ind = match_targets(outputs, targets)\n",
    "    matched_outputs = outputs[row_ind]\n",
    "    matched_targets = targets[col_ind]\n",
    "    # loss = F.l1_loss(matched_outputs, matched_targets)\n",
    "    # loss = F.smooth_l1_loss(matched_outputs, matched_targets)\n",
    "    # loss = F.mse_loss(matched_outputs, matched_targets)\n",
    "    loss = distance(matched_outputs, matched_targets)\n",
    "    return loss\n",
    "\n",
    "\n",
    "class TRTHungarianLoss(nn.Module):\n",
    "    def __init__(self, distance: Callable = F.l1_loss):\n",
    "        super().__init__()\n",
    "        self._distance = distance\n",
    "\n",
    "    def forward(self, preds, targets, preds_lengths, targets_lengths):\n",
    "        hungarian = torch.tensor(0.0).to(preds.device)\n",
    "        for i in range(preds.shape[0]):\n",
    "            hungarian += hungarian_loss(\n",
    "                preds[i, :preds_lengths[i]],\n",
    "                targets[i, :targets_lengths[i]],\n",
    "                distance=self._distance\n",
    "            )\n",
    "        hungarian /= preds.shape[0]  # batchmean\n",
    "        return hungarian"
   ]
  },
  {
   "cell_type": "code",
   "execution_count": 56,
   "metadata": {},
   "outputs": [],
   "source": [
    "criterion = TRTHungarianLoss()"
   ]
  },
  {
   "cell_type": "markdown",
   "metadata": {},
   "source": [
    "#### Check the loss"
   ]
  },
  {
   "cell_type": "code",
   "execution_count": 57,
   "metadata": {},
   "outputs": [
    {
     "data": {
      "text/plain": [
       "tensor(0.)"
      ]
     },
     "execution_count": 57,
     "metadata": {},
     "output_type": "execute_result"
    }
   ],
   "source": [
    "criterion(\n",
    "    preds=preds_targets_random,\n",
    "    targets=targets,\n",
    "    preds_lengths=preds_targets_random_lengths,\n",
    "    targets_lengths=targets_lengths\n",
    ")"
   ]
  },
  {
   "cell_type": "code",
   "execution_count": 48,
   "metadata": {},
   "outputs": [
    {
     "data": {
      "text/plain": [
       "{'inputs': tensor([[[-0.4306, -0.0775,  0.3621],\n",
       "          [-0.7161,  0.3530,  0.9452],\n",
       "          [-0.1093,  0.3612,  0.7205],\n",
       "          ...,\n",
       "          [ 0.0000,  0.0000,  0.0000],\n",
       "          [ 0.0000,  0.0000,  0.0000],\n",
       "          [ 0.0000,  0.0000,  0.0000]],\n",
       " \n",
       "         [[-0.9330,  0.1032,  0.8561],\n",
       "          [ 0.8773, -0.2724, -0.7827],\n",
       "          [-0.0673, -0.6296, -0.0309],\n",
       "          ...,\n",
       "          [ 0.0000,  0.0000,  0.0000],\n",
       "          [ 0.0000,  0.0000,  0.0000],\n",
       "          [ 0.0000,  0.0000,  0.0000]],\n",
       " \n",
       "         [[-0.2009,  0.3660,  0.2520],\n",
       "          [-0.4346,  0.3497, -0.0374],\n",
       "          [-0.0352, -0.3758, -0.1095],\n",
       "          ...,\n",
       "          [ 0.0000,  0.0000,  0.0000],\n",
       "          [ 0.0000,  0.0000,  0.0000],\n",
       "          [ 0.0000,  0.0000,  0.0000]],\n",
       " \n",
       "         ...,\n",
       " \n",
       "         [[ 0.7158, -0.0570,  0.0866],\n",
       "          [-0.3957, -0.4747,  0.0431],\n",
       "          [ 0.0088,  0.4602,  0.0262],\n",
       "          ...,\n",
       "          [ 0.0000,  0.0000,  0.0000],\n",
       "          [ 0.0000,  0.0000,  0.0000],\n",
       "          [ 0.0000,  0.0000,  0.0000]],\n",
       " \n",
       "         [[-0.7540, -0.1931,  0.0406],\n",
       "          [-0.5590, -0.2848, -0.0872],\n",
       "          [ 0.1353,  0.6645,  0.2099],\n",
       "          ...,\n",
       "          [-0.1784, -0.4140,  0.2240],\n",
       "          [-0.9351,  0.2115, -0.9289],\n",
       "          [ 0.4016, -0.8706, -0.0367]],\n",
       " \n",
       "         [[-0.3566,  0.0234, -0.3762],\n",
       "          [ 0.3361,  0.4945, -0.7710],\n",
       "          [-0.0041, -0.3759,  0.0518],\n",
       "          ...,\n",
       "          [ 0.0000,  0.0000,  0.0000],\n",
       "          [ 0.0000,  0.0000,  0.0000],\n",
       "          [ 0.0000,  0.0000,  0.0000]]]),\n",
       " 'mask': tensor([[ True,  True,  True,  ..., False, False, False],\n",
       "         [ True,  True,  True,  ..., False, False, False],\n",
       "         [ True,  True,  True,  ..., False, False, False],\n",
       "         ...,\n",
       "         [ True,  True,  True,  ..., False, False, False],\n",
       "         [ True,  True,  True,  ...,  True,  True,  True],\n",
       "         [ True,  True,  True,  ..., False, False, False]]),\n",
       " 'targets': tensor([[[0.4933, 0.5023, 0.4920, 0.2977, 0.3779, 0.6977, 1.0000],\n",
       "          [0.4933, 0.5023, 0.4920, 0.7344, 0.6183, 0.6966, 1.0000],\n",
       "          [0.0000, 0.0000, 0.0000, 0.0000, 0.0000, 0.0000, 0.0000],\n",
       "          [0.0000, 0.0000, 0.0000, 0.0000, 0.0000, 0.0000, 0.0000],\n",
       "          [0.0000, 0.0000, 0.0000, 0.0000, 0.0000, 0.0000, 0.0000]],\n",
       " \n",
       "         [[0.4946, 0.4966, 0.4778, 0.7411, 0.7484, 0.4806, 1.0000],\n",
       "          [0.0000, 0.0000, 0.0000, 0.0000, 0.0000, 0.0000, 0.0000],\n",
       "          [0.0000, 0.0000, 0.0000, 0.0000, 0.0000, 0.0000, 0.0000],\n",
       "          [0.0000, 0.0000, 0.0000, 0.0000, 0.0000, 0.0000, 0.0000],\n",
       "          [0.0000, 0.0000, 0.0000, 0.0000, 0.0000, 0.0000, 0.0000]],\n",
       " \n",
       "         [[0.5059, 0.4981, 0.5559, 0.5204, 0.8110, 0.2880, 0.0000],\n",
       "          [0.5059, 0.4981, 0.5559, 0.4023, 0.9057, 0.4842, 0.0000],\n",
       "          [0.5059, 0.4981, 0.5559, 0.2223, 0.6505, 0.1441, 0.0000],\n",
       "          [0.0000, 0.0000, 0.0000, 0.0000, 0.0000, 0.0000, 0.0000],\n",
       "          [0.0000, 0.0000, 0.0000, 0.0000, 0.0000, 0.0000, 0.0000]],\n",
       " \n",
       "         [[0.5015, 0.4947, 0.4539, 0.1721, 0.8110, 0.8237, 0.0000],\n",
       "          [0.0000, 0.0000, 0.0000, 0.0000, 0.0000, 0.0000, 0.0000],\n",
       "          [0.0000, 0.0000, 0.0000, 0.0000, 0.0000, 0.0000, 0.0000],\n",
       "          [0.0000, 0.0000, 0.0000, 0.0000, 0.0000, 0.0000, 0.0000],\n",
       "          [0.0000, 0.0000, 0.0000, 0.0000, 0.0000, 0.0000, 0.0000]],\n",
       " \n",
       "         [[0.4908, 0.4998, 0.4693, 0.7067, 0.8657, 0.6830, 1.0000],\n",
       "          [0.4908, 0.4998, 0.4693, 0.0214, 0.1522, 0.1365, 0.0000],\n",
       "          [0.4908, 0.4998, 0.4693, 0.9355, 0.2515, 0.4543, 1.0000],\n",
       "          [0.4908, 0.4998, 0.4693, 0.4015, 0.7486, 0.4619, 0.0000],\n",
       "          [0.4908, 0.4998, 0.4693, 0.2423, 0.5612, 0.5507, 1.0000]],\n",
       " \n",
       "         [[0.5083, 0.5013, 0.5403, 0.4810, 0.3664, 0.0456, 0.0000],\n",
       "          [0.5083, 0.5013, 0.5403, 0.6947, 0.5885, 0.2956, 1.0000],\n",
       "          [0.5083, 0.5013, 0.5403, 0.8287, 0.6030, 0.5576, 1.0000],\n",
       "          [0.5083, 0.5013, 0.5403, 0.8818, 0.7039, 0.1379, 1.0000],\n",
       "          [0.0000, 0.0000, 0.0000, 0.0000, 0.0000, 0.0000, 0.0000]],\n",
       " \n",
       "         [[0.5087, 0.4923, 0.5566, 0.7769, 0.8327, 0.8496, 1.0000],\n",
       "          [0.5087, 0.4923, 0.5566, 0.9973, 0.2966, 0.3891, 1.0000],\n",
       "          [0.5087, 0.4923, 0.5566, 0.8116, 0.4076, 0.4118, 1.0000],\n",
       "          [0.5087, 0.4923, 0.5566, 0.6545, 0.4302, 0.8416, 0.0000],\n",
       "          [0.5087, 0.4923, 0.5566, 0.6733, 0.7772, 0.3983, 0.0000]],\n",
       " \n",
       "         [[0.5031, 0.4925, 0.4495, 0.8077, 0.5733, 0.6940, 1.0000],\n",
       "          [0.5031, 0.4925, 0.4495, 0.4733, 0.8359, 0.8847, 1.0000],\n",
       "          [0.5031, 0.4925, 0.4495, 0.9844, 0.4777, 0.4766, 0.0000],\n",
       "          [0.0000, 0.0000, 0.0000, 0.0000, 0.0000, 0.0000, 0.0000],\n",
       "          [0.0000, 0.0000, 0.0000, 0.0000, 0.0000, 0.0000, 0.0000]],\n",
       " \n",
       "         [[0.4926, 0.5090, 0.5205, 0.9626, 0.3467, 0.0579, 1.0000],\n",
       "          [0.4926, 0.5090, 0.5205, 0.9692, 0.9751, 0.8469, 0.0000],\n",
       "          [0.4926, 0.5090, 0.5205, 0.9569, 0.9834, 0.6332, 1.0000],\n",
       "          [0.0000, 0.0000, 0.0000, 0.0000, 0.0000, 0.0000, 0.0000],\n",
       "          [0.0000, 0.0000, 0.0000, 0.0000, 0.0000, 0.0000, 0.0000]],\n",
       " \n",
       "         [[0.5034, 0.5072, 0.4684, 0.0504, 0.5048, 0.8954, 0.0000],\n",
       "          [0.5034, 0.5072, 0.4684, 0.2049, 0.9897, 0.3558, 0.0000],\n",
       "          [0.5034, 0.5072, 0.4684, 0.3323, 0.1372, 0.2004, 0.0000],\n",
       "          [0.0000, 0.0000, 0.0000, 0.0000, 0.0000, 0.0000, 0.0000],\n",
       "          [0.0000, 0.0000, 0.0000, 0.0000, 0.0000, 0.0000, 0.0000]],\n",
       " \n",
       "         [[0.5096, 0.5065, 0.4758, 0.4374, 0.6541, 0.7209, 0.0000],\n",
       "          [0.0000, 0.0000, 0.0000, 0.0000, 0.0000, 0.0000, 0.0000],\n",
       "          [0.0000, 0.0000, 0.0000, 0.0000, 0.0000, 0.0000, 0.0000],\n",
       "          [0.0000, 0.0000, 0.0000, 0.0000, 0.0000, 0.0000, 0.0000],\n",
       "          [0.0000, 0.0000, 0.0000, 0.0000, 0.0000, 0.0000, 0.0000]],\n",
       " \n",
       "         [[0.5010, 0.5140, 0.4746, 0.3482, 0.0557, 0.5970, 0.0000],\n",
       "          [0.5010, 0.5140, 0.4746, 0.7467, 0.6339, 0.3734, 1.0000],\n",
       "          [0.5010, 0.5140, 0.4746, 0.3432, 0.8736, 0.8417, 1.0000],\n",
       "          [0.5010, 0.5140, 0.4746, 0.5249, 0.8338, 0.5590, 1.0000],\n",
       "          [0.5010, 0.5140, 0.4746, 0.8989, 0.7920, 0.6149, 1.0000]],\n",
       " \n",
       "         [[0.5005, 0.5129, 0.5476, 0.6432, 0.9033, 0.3214, 1.0000],\n",
       "          [0.5005, 0.5129, 0.5476, 0.8522, 0.7501, 0.3922, 1.0000],\n",
       "          [0.5005, 0.5129, 0.5476, 0.9883, 0.7444, 0.4563, 0.0000],\n",
       "          [0.0000, 0.0000, 0.0000, 0.0000, 0.0000, 0.0000, 0.0000],\n",
       "          [0.0000, 0.0000, 0.0000, 0.0000, 0.0000, 0.0000, 0.0000]],\n",
       " \n",
       "         [[0.5091, 0.5005, 0.5466, 0.5404, 0.2656, 0.6234, 1.0000],\n",
       "          [0.5091, 0.5005, 0.5466, 0.6643, 0.0567, 0.6325, 1.0000],\n",
       "          [0.5091, 0.5005, 0.5466, 0.3097, 0.9576, 0.4916, 0.0000],\n",
       "          [0.0000, 0.0000, 0.0000, 0.0000, 0.0000, 0.0000, 0.0000],\n",
       "          [0.0000, 0.0000, 0.0000, 0.0000, 0.0000, 0.0000, 0.0000]],\n",
       " \n",
       "         [[0.5029, 0.4992, 0.5292, 0.7608, 0.5613, 0.3177, 0.0000],\n",
       "          [0.5029, 0.4992, 0.5292, 0.6383, 0.5167, 0.3983, 0.0000],\n",
       "          [0.5029, 0.4992, 0.5292, 0.9283, 0.4282, 0.1169, 0.0000],\n",
       "          [0.5029, 0.4992, 0.5292, 0.5969, 0.4458, 0.7952, 0.0000],\n",
       "          [0.5029, 0.4992, 0.5292, 0.5082, 0.6958, 0.2456, 1.0000]],\n",
       " \n",
       "         [[0.4975, 0.4968, 0.5387, 0.1857, 0.7721, 0.5606, 1.0000],\n",
       "          [0.0000, 0.0000, 0.0000, 0.0000, 0.0000, 0.0000, 0.0000],\n",
       "          [0.0000, 0.0000, 0.0000, 0.0000, 0.0000, 0.0000, 0.0000],\n",
       "          [0.0000, 0.0000, 0.0000, 0.0000, 0.0000, 0.0000, 0.0000],\n",
       "          [0.0000, 0.0000, 0.0000, 0.0000, 0.0000, 0.0000, 0.0000]]]),\n",
       " 'orig_params': tensor([[[-1.1338e+01,  3.8432e+00, -3.8365e+01,  3.6794e+02,  2.3742e+00,\n",
       "            2.1919e+00,  1.0000e+00],\n",
       "          [-1.1338e+01,  3.8432e+00, -3.8365e+01,  7.6097e+02,  3.8851e+00,\n",
       "            2.1883e+00,  1.0000e+00],\n",
       "          [ 0.0000e+00,  0.0000e+00,  0.0000e+00,  0.0000e+00,  0.0000e+00,\n",
       "            0.0000e+00,  0.0000e+00],\n",
       "          [ 0.0000e+00,  0.0000e+00,  0.0000e+00,  0.0000e+00,  0.0000e+00,\n",
       "            0.0000e+00,  0.0000e+00],\n",
       "          [ 0.0000e+00,  0.0000e+00,  0.0000e+00,  0.0000e+00,  0.0000e+00,\n",
       "            0.0000e+00,  0.0000e+00]],\n",
       " \n",
       "         [[-9.2177e+00, -5.8632e+00, -1.0609e+02,  7.6697e+02,  4.7025e+00,\n",
       "            1.5100e+00,  1.0000e+00],\n",
       "          [ 0.0000e+00,  0.0000e+00,  0.0000e+00,  0.0000e+00,  0.0000e+00,\n",
       "            0.0000e+00,  0.0000e+00],\n",
       "          [ 0.0000e+00,  0.0000e+00,  0.0000e+00,  0.0000e+00,  0.0000e+00,\n",
       "            0.0000e+00,  0.0000e+00],\n",
       "          [ 0.0000e+00,  0.0000e+00,  0.0000e+00,  0.0000e+00,  0.0000e+00,\n",
       "            0.0000e+00,  0.0000e+00],\n",
       "          [ 0.0000e+00,  0.0000e+00,  0.0000e+00,  0.0000e+00,  0.0000e+00,\n",
       "            0.0000e+00,  0.0000e+00]],\n",
       " \n",
       "         [[ 1.0087e+01, -3.2312e+00,  2.6652e+02,  5.6834e+02,  5.0959e+00,\n",
       "            9.0484e-01, -1.0000e+00],\n",
       "          [ 1.0087e+01, -3.2312e+00,  2.6652e+02,  4.6205e+02,  5.6905e+00,\n",
       "            1.5213e+00, -1.0000e+00],\n",
       "          [ 1.0087e+01, -3.2312e+00,  2.6652e+02,  3.0010e+02,  4.0873e+00,\n",
       "            4.5282e-01, -1.0000e+00],\n",
       "          [ 0.0000e+00,  0.0000e+00,  0.0000e+00,  0.0000e+00,  0.0000e+00,\n",
       "            0.0000e+00,  0.0000e+00],\n",
       "          [ 0.0000e+00,  0.0000e+00,  0.0000e+00,  0.0000e+00,  0.0000e+00,\n",
       "            0.0000e+00,  0.0000e+00]],\n",
       " \n",
       "         [[ 2.5740e+00, -9.0848e+00, -2.1997e+02,  2.5492e+02,  5.0959e+00,\n",
       "            2.5878e+00, -1.0000e+00],\n",
       "          [ 0.0000e+00,  0.0000e+00,  0.0000e+00,  0.0000e+00,  0.0000e+00,\n",
       "            0.0000e+00,  0.0000e+00],\n",
       "          [ 0.0000e+00,  0.0000e+00,  0.0000e+00,  0.0000e+00,  0.0000e+00,\n",
       "            0.0000e+00,  0.0000e+00],\n",
       "          [ 0.0000e+00,  0.0000e+00,  0.0000e+00,  0.0000e+00,  0.0000e+00,\n",
       "            0.0000e+00,  0.0000e+00],\n",
       "          [ 0.0000e+00,  0.0000e+00,  0.0000e+00,  0.0000e+00,  0.0000e+00,\n",
       "            0.0000e+00,  0.0000e+00]],\n",
       " \n",
       "         [[-1.5604e+01, -3.0977e-01, -1.4672e+02,  7.3602e+02,  5.4396e+00,\n",
       "            2.1456e+00,  1.0000e+00],\n",
       "          [-1.5604e+01, -3.0977e-01, -1.4672e+02,  1.1929e+02,  9.5631e-01,\n",
       "            4.2893e-01, -1.0000e+00],\n",
       "          [-1.5604e+01, -3.0977e-01, -1.4672e+02,  9.4198e+02,  1.5799e+00,\n",
       "            1.4273e+00,  1.0000e+00],\n",
       "          [-1.5604e+01, -3.0977e-01, -1.4672e+02,  4.6138e+02,  4.7037e+00,\n",
       "            1.4513e+00, -1.0000e+00],\n",
       "          [-1.5604e+01, -3.0977e-01, -1.4672e+02,  3.1809e+02,  3.5260e+00,\n",
       "            1.7302e+00,  1.0000e+00]],\n",
       " \n",
       "         [[ 1.4048e+01,  2.2112e+00,  1.9224e+02,  5.3292e+02,  2.3023e+00,\n",
       "            1.4313e-01, -1.0000e+00],\n",
       "          [ 1.4048e+01,  2.2112e+00,  1.9224e+02,  7.2526e+02,  3.6977e+00,\n",
       "            9.2862e-01,  1.0000e+00],\n",
       "          [ 1.4048e+01,  2.2112e+00,  1.9224e+02,  8.4579e+02,  3.7887e+00,\n",
       "            1.7517e+00,  1.0000e+00],\n",
       "          [ 1.4048e+01,  2.2112e+00,  1.9224e+02,  8.9362e+02,  4.4224e+00,\n",
       "            4.3314e-01,  1.0000e+00],\n",
       "          [ 0.0000e+00,  0.0000e+00,  0.0000e+00,  0.0000e+00,  0.0000e+00,\n",
       "            0.0000e+00,  0.0000e+00]],\n",
       " \n",
       "         [[ 1.4777e+01, -1.3159e+01,  2.7001e+02,  7.9924e+02,  5.2323e+00,\n",
       "            2.6690e+00,  1.0000e+00],\n",
       "          [ 1.4777e+01, -1.3159e+01,  2.7001e+02,  9.9754e+02,  1.8637e+00,\n",
       "            1.2226e+00,  1.0000e+00],\n",
       "          [ 1.4777e+01, -1.3159e+01,  2.7001e+02,  8.3048e+02,  2.5609e+00,\n",
       "            1.2938e+00,  1.0000e+00],\n",
       "          [ 1.4777e+01, -1.3159e+01,  2.7001e+02,  6.8901e+02,  2.7030e+00,\n",
       "            2.6440e+00, -1.0000e+00],\n",
       "          [ 1.4777e+01, -1.3159e+01,  2.7001e+02,  7.0593e+02,  4.8835e+00,\n",
       "            1.2514e+00, -1.0000e+00]],\n",
       " \n",
       "         [[ 5.1948e+00, -1.2687e+01, -2.4103e+02,  8.2695e+02,  3.6023e+00,\n",
       "            2.1803e+00,  1.0000e+00],\n",
       "          [ 5.1948e+00, -1.2687e+01, -2.4103e+02,  5.2600e+02,  5.2523e+00,\n",
       "            2.7792e+00,  1.0000e+00],\n",
       "          [ 5.1948e+00, -1.2687e+01, -2.4103e+02,  9.8595e+02,  3.0017e+00,\n",
       "            1.4973e+00, -1.0000e+00],\n",
       "          [ 0.0000e+00,  0.0000e+00,  0.0000e+00,  0.0000e+00,  0.0000e+00,\n",
       "            0.0000e+00,  0.0000e+00],\n",
       "          [ 0.0000e+00,  0.0000e+00,  0.0000e+00,  0.0000e+00,  0.0000e+00,\n",
       "            0.0000e+00,  0.0000e+00]],\n",
       " \n",
       "         [[-1.2641e+01,  1.5279e+01,  9.7829e+01,  9.6635e+02,  2.1781e+00,\n",
       "            1.8190e-01,  1.0000e+00],\n",
       "          [-1.2641e+01,  1.5279e+01,  9.7829e+01,  9.7229e+02,  6.1269e+00,\n",
       "            2.6607e+00, -1.0000e+00],\n",
       "          [-1.2641e+01,  1.5279e+01,  9.7829e+01,  9.6122e+02,  6.1788e+00,\n",
       "            1.9894e+00,  1.0000e+00],\n",
       "          [ 0.0000e+00,  0.0000e+00,  0.0000e+00,  0.0000e+00,  0.0000e+00,\n",
       "            0.0000e+00,  0.0000e+00],\n",
       "          [ 0.0000e+00,  0.0000e+00,  0.0000e+00,  0.0000e+00,  0.0000e+00,\n",
       "            0.0000e+00,  0.0000e+00]],\n",
       " \n",
       "         [[ 5.8487e+00,  1.2312e+01, -1.5057e+02,  1.4540e+02,  3.1716e+00,\n",
       "            2.8131e+00, -1.0000e+00],\n",
       "          [ 5.8487e+00,  1.2312e+01, -1.5057e+02,  2.8444e+02,  6.2184e+00,\n",
       "            1.1178e+00, -1.0000e+00],\n",
       "          [ 5.8487e+00,  1.2312e+01, -1.5057e+02,  3.9903e+02,  8.6215e-01,\n",
       "            6.2956e-01, -1.0000e+00],\n",
       "          [ 0.0000e+00,  0.0000e+00,  0.0000e+00,  0.0000e+00,  0.0000e+00,\n",
       "            0.0000e+00,  0.0000e+00],\n",
       "          [ 0.0000e+00,  0.0000e+00,  0.0000e+00,  0.0000e+00,  0.0000e+00,\n",
       "            0.0000e+00,  0.0000e+00]],\n",
       " \n",
       "         [[ 1.6302e+01,  1.1007e+01, -1.1566e+02,  4.9362e+02,  4.1096e+00,\n",
       "            2.2647e+00, -1.0000e+00],\n",
       "          [ 0.0000e+00,  0.0000e+00,  0.0000e+00,  0.0000e+00,  0.0000e+00,\n",
       "            0.0000e+00,  0.0000e+00],\n",
       "          [ 0.0000e+00,  0.0000e+00,  0.0000e+00,  0.0000e+00,  0.0000e+00,\n",
       "            0.0000e+00,  0.0000e+00],\n",
       "          [ 0.0000e+00,  0.0000e+00,  0.0000e+00,  0.0000e+00,  0.0000e+00,\n",
       "            0.0000e+00,  0.0000e+00],\n",
       "          [ 0.0000e+00,  0.0000e+00,  0.0000e+00,  0.0000e+00,  0.0000e+00,\n",
       "            0.0000e+00,  0.0000e+00]],\n",
       " \n",
       "         [[ 1.7685e+00,  2.3778e+01, -1.2105e+02,  4.1336e+02,  3.5013e-01,\n",
       "            1.8756e+00, -1.0000e+00],\n",
       "          [ 1.7685e+00,  2.3778e+01, -1.2105e+02,  7.7199e+02,  3.9830e+00,\n",
       "            1.1730e+00,  1.0000e+00],\n",
       "          [ 1.7685e+00,  2.3778e+01, -1.2105e+02,  4.0892e+02,  5.4891e+00,\n",
       "            2.6444e+00,  1.0000e+00],\n",
       "          [ 1.7685e+00,  2.3778e+01, -1.2105e+02,  5.7237e+02,  5.2388e+00,\n",
       "            1.7562e+00,  1.0000e+00],\n",
       "          [ 1.7685e+00,  2.3778e+01, -1.2105e+02,  9.0904e+02,  4.9765e+00,\n",
       "            1.9317e+00,  1.0000e+00]],\n",
       " \n",
       "         [[ 7.9433e-01,  2.1902e+01,  2.2716e+02,  6.7891e+02,  5.6754e+00,\n",
       "            1.0096e+00,  1.0000e+00],\n",
       "          [ 7.9433e-01,  2.1902e+01,  2.2716e+02,  8.6701e+02,  4.7132e+00,\n",
       "            1.2322e+00,  1.0000e+00],\n",
       "          [ 7.9433e-01,  2.1902e+01,  2.2716e+02,  9.8945e+02,  4.6771e+00,\n",
       "            1.4335e+00, -1.0000e+00],\n",
       "          [ 0.0000e+00,  0.0000e+00,  0.0000e+00,  0.0000e+00,  0.0000e+00,\n",
       "            0.0000e+00,  0.0000e+00],\n",
       "          [ 0.0000e+00,  0.0000e+00,  0.0000e+00,  0.0000e+00,  0.0000e+00,\n",
       "            0.0000e+00,  0.0000e+00]],\n",
       " \n",
       "         [[ 1.5513e+01,  7.9190e-01,  2.2226e+02,  5.8633e+02,  1.6687e+00,\n",
       "            1.9585e+00,  1.0000e+00],\n",
       "          [ 1.5513e+01,  7.9190e-01,  2.2226e+02,  6.9790e+02,  3.5617e-01,\n",
       "            1.9870e+00,  1.0000e+00],\n",
       "          [ 1.5513e+01,  7.9190e-01,  2.2226e+02,  3.7876e+02,  6.0168e+00,\n",
       "            1.5446e+00, -1.0000e+00],\n",
       "          [ 0.0000e+00,  0.0000e+00,  0.0000e+00,  0.0000e+00,  0.0000e+00,\n",
       "            0.0000e+00,  0.0000e+00],\n",
       "          [ 0.0000e+00,  0.0000e+00,  0.0000e+00,  0.0000e+00,  0.0000e+00,\n",
       "            0.0000e+00,  0.0000e+00]],\n",
       " \n",
       "         [[ 4.9672e+00, -1.3826e+00,  1.3920e+02,  7.8471e+02,  3.5266e+00,\n",
       "            9.9806e-01, -1.0000e+00],\n",
       "          [ 4.9672e+00, -1.3826e+00,  1.3920e+02,  6.7444e+02,  3.2465e+00,\n",
       "            1.2512e+00, -1.0000e+00],\n",
       "          [ 4.9672e+00, -1.3826e+00,  1.3920e+02,  9.3549e+02,  2.6904e+00,\n",
       "            3.6727e-01, -1.0000e+00],\n",
       "          [ 4.9672e+00, -1.3826e+00,  1.3920e+02,  6.3717e+02,  2.8012e+00,\n",
       "            2.4982e+00, -1.0000e+00],\n",
       "          [ 4.9672e+00, -1.3826e+00,  1.3920e+02,  5.5738e+02,  4.3719e+00,\n",
       "            7.7171e-01,  1.0000e+00]],\n",
       " \n",
       "         [[-4.1822e+00, -5.4194e+00,  1.8450e+02,  2.6714e+02,  4.8515e+00,\n",
       "            1.7611e+00,  1.0000e+00],\n",
       "          [ 0.0000e+00,  0.0000e+00,  0.0000e+00,  0.0000e+00,  0.0000e+00,\n",
       "            0.0000e+00,  0.0000e+00],\n",
       "          [ 0.0000e+00,  0.0000e+00,  0.0000e+00,  0.0000e+00,  0.0000e+00,\n",
       "            0.0000e+00,  0.0000e+00],\n",
       "          [ 0.0000e+00,  0.0000e+00,  0.0000e+00,  0.0000e+00,  0.0000e+00,\n",
       "            0.0000e+00,  0.0000e+00],\n",
       "          [ 0.0000e+00,  0.0000e+00,  0.0000e+00,  0.0000e+00,  0.0000e+00,\n",
       "            0.0000e+00,  0.0000e+00]]]),\n",
       " 'n_tracks_per_sample': tensor([2, 1, 3, 1, 5, 4, 5, 3, 3, 3, 1, 5, 3, 3, 5, 1])}"
      ]
     },
     "execution_count": 48,
     "metadata": {},
     "output_type": "execute_result"
    }
   ],
   "source": [
    "batch"
   ]
  },
  {
   "cell_type": "code",
   "execution_count": 49,
   "metadata": {},
   "outputs": [],
   "source": [
    "model = TRT(\n",
    "    num_candidates=MAX_EVENT_TRACKS,\n",
    "    n_points=TRUNCATION_LENGTH,\n",
    "    num_out_params=batch[\"targets\"].shape[2]\n",
    ")"
   ]
  },
  {
   "cell_type": "code",
   "execution_count": 50,
   "metadata": {},
   "outputs": [
    {
     "name": "stdout",
     "output_type": "stream",
     "text": [
      "tensor([[[0.5804, 0.5000, 0.5080, 0.4795, 0.4953, 0.4848, 0.4939],\n",
      "         [0.5229, 0.4988, 0.5438, 0.4862, 0.5641, 0.4869, 0.4947],\n",
      "         [0.5207, 0.5187, 0.4933, 0.4873, 0.4992, 0.4928, 0.5127],\n",
      "         [0.5425, 0.5135, 0.5000, 0.4840, 0.4954, 0.4849, 0.5029],\n",
      "         [0.5000, 0.5147, 0.4887, 0.4957, 0.4991, 0.4988, 0.5362]],\n",
      "\n",
      "        [[0.5409, 0.5000, 0.4970, 0.4863, 0.5000, 0.4888, 0.5141],\n",
      "         [0.5303, 0.5117, 0.4969, 0.4929, 0.5190, 0.4972, 0.5046],\n",
      "         [0.5692, 0.4944, 0.4988, 0.4856, 0.5000, 0.5000, 0.4977],\n",
      "         [0.5345, 0.4999, 0.4901, 0.5000, 0.5249, 0.4973, 0.5390],\n",
      "         [0.5179, 0.5000, 0.4979, 0.4887, 0.5383, 0.4907, 0.5313]],\n",
      "\n",
      "        [[0.5322, 0.4889, 0.5000, 0.4948, 0.5691, 0.4923, 0.5135],\n",
      "         [0.5455, 0.5404, 0.4925, 0.4994, 0.5314, 0.4927, 0.4976],\n",
      "         [0.5151, 0.4975, 0.4962, 0.4949, 0.5598, 0.4978, 0.5347],\n",
      "         [0.4944, 0.4970, 0.4842, 0.5000, 0.5476, 0.5121, 0.5956],\n",
      "         [0.4983, 0.4925, 0.4815, 0.4954, 0.5134, 0.4948, 0.6040]],\n",
      "\n",
      "        [[0.5042, 0.4942, 0.4972, 0.4900, 0.5657, 0.4937, 0.5549],\n",
      "         [0.5621, 0.5304, 0.4980, 0.5061, 0.5000, 0.5099, 0.4946],\n",
      "         [0.5655, 0.5137, 0.4942, 0.4981, 0.5522, 0.4958, 0.4984],\n",
      "         [0.5216, 0.4903, 0.4950, 0.4921, 0.5617, 0.4933, 0.5415],\n",
      "         [0.5445, 0.4916, 0.4920, 0.5000, 0.5584, 0.4969, 0.5368]],\n",
      "\n",
      "        [[0.5418, 0.5000, 0.4985, 0.4812, 0.5335, 0.4803, 0.5002],\n",
      "         [0.5433, 0.4909, 0.5088, 0.4891, 0.5561, 0.5000, 0.5000],\n",
      "         [0.5231, 0.4960, 0.4978, 0.4887, 0.5287, 0.4912, 0.5237],\n",
      "         [0.5000, 0.4906, 0.4924, 0.4952, 0.5072, 0.4950, 0.5269],\n",
      "         [0.5243, 0.4922, 0.4947, 0.4875, 0.5293, 0.4902, 0.5186]],\n",
      "\n",
      "        [[0.5289, 0.4938, 0.4945, 0.5000, 0.5361, 0.4850, 0.5284],\n",
      "         [0.5543, 0.4885, 0.5529, 0.4799, 0.5460, 0.4791, 0.4975],\n",
      "         [0.5224, 0.4900, 0.5208, 0.4867, 0.5532, 0.4845, 0.5135],\n",
      "         [0.4921, 0.4877, 0.5211, 0.4946, 0.5000, 0.4909, 0.5519],\n",
      "         [0.5212, 0.4831, 0.4985, 0.4848, 0.5000, 0.4840, 0.5112]],\n",
      "\n",
      "        [[0.5628, 0.5203, 0.4932, 0.4956, 0.5158, 0.5000, 0.5000],\n",
      "         [0.5027, 0.4894, 0.4883, 0.4919, 0.5000, 0.4938, 0.5515],\n",
      "         [0.5524, 0.4867, 0.4918, 0.4864, 0.5159, 0.4885, 0.5175],\n",
      "         [0.5468, 0.4923, 0.5266, 0.4987, 0.5375, 0.4941, 0.4942],\n",
      "         [0.5337, 0.4825, 0.5000, 0.5000, 0.5261, 0.4989, 0.4945]],\n",
      "\n",
      "        [[0.5622, 0.4926, 0.5000, 0.4838, 0.5306, 0.4852, 0.4964],\n",
      "         [0.5000, 0.4914, 0.4861, 0.4867, 0.5125, 0.5000, 0.5466],\n",
      "         [0.5387, 0.4981, 0.4853, 0.4865, 0.4912, 0.4915, 0.5095],\n",
      "         [0.5054, 0.4985, 0.5209, 0.4886, 0.5300, 0.4883, 0.5308],\n",
      "         [0.5562, 0.4873, 0.4806, 0.4920, 0.5031, 0.4942, 0.5143]],\n",
      "\n",
      "        [[0.5297, 0.4963, 0.4906, 0.4960, 0.5445, 0.4993, 0.5303],\n",
      "         [0.5167, 0.4857, 0.4954, 0.5000, 0.5634, 0.4892, 0.5331],\n",
      "         [0.5166, 0.4930, 0.4826, 0.4958, 0.5020, 0.4969, 0.5540],\n",
      "         [0.5000, 0.4895, 0.5101, 0.5000, 0.5404, 0.4857, 0.5365],\n",
      "         [0.5126, 0.4926, 0.4948, 0.4912, 0.5361, 0.4848, 0.5351]],\n",
      "\n",
      "        [[0.5718, 0.4992, 0.5000, 0.4868, 0.5131, 0.4937, 0.4981],\n",
      "         [0.5722, 0.5000, 0.5178, 0.4820, 0.5339, 0.4841, 0.4937],\n",
      "         [0.5313, 0.4796, 0.4959, 0.4833, 0.5584, 0.4842, 0.5249],\n",
      "         [0.5159, 0.4928, 0.4877, 0.4880, 0.4981, 0.4895, 0.5286],\n",
      "         [0.5202, 0.4918, 0.4998, 0.4860, 0.5461, 0.4805, 0.5053]],\n",
      "\n",
      "        [[0.5000, 0.4957, 0.4958, 0.5000, 0.5465, 0.4894, 0.5304],\n",
      "         [0.5086, 0.5200, 0.4942, 0.4982, 0.5719, 0.4955, 0.5154],\n",
      "         [0.5681, 0.4981, 0.4959, 0.4927, 0.5475, 0.4948, 0.4970],\n",
      "         [0.5172, 0.5079, 0.4886, 0.4914, 0.5085, 0.5000, 0.5000],\n",
      "         [0.5339, 0.4943, 0.4990, 0.4872, 0.5409, 0.4900, 0.5077]],\n",
      "\n",
      "        [[0.4952, 0.5144, 0.4915, 0.4981, 0.5503, 0.4992, 0.5805],\n",
      "         [0.5976, 0.4916, 0.4944, 0.4868, 0.5155, 0.5000, 0.4906],\n",
      "         [0.5814, 0.5050, 0.4972, 0.4777, 0.4923, 0.4848, 0.4926],\n",
      "         [0.4959, 0.4831, 0.4791, 0.4981, 0.5395, 0.4949, 0.6155],\n",
      "         [0.5553, 0.4931, 0.4865, 0.4853, 0.4928, 0.4875, 0.5200]],\n",
      "\n",
      "        [[0.5205, 0.4978, 0.4890, 0.5032, 0.5348, 0.4993, 0.5525],\n",
      "         [0.5819, 0.5203, 0.5549, 0.4884, 0.5509, 0.4833, 0.4855],\n",
      "         [0.5253, 0.4949, 0.4832, 0.5000, 0.5028, 0.5000, 0.5000],\n",
      "         [0.4913, 0.4863, 0.4875, 0.5330, 0.5795, 0.5000, 0.5620],\n",
      "         [0.5098, 0.4880, 0.4889, 0.4882, 0.5309, 0.4865, 0.5212]],\n",
      "\n",
      "        [[0.5548, 0.4913, 0.4944, 0.4946, 0.5000, 0.4998, 0.4982],\n",
      "         [0.5367, 0.5293, 0.4931, 0.4896, 0.4981, 0.4972, 0.4971],\n",
      "         [0.5217, 0.5334, 0.4905, 0.4929, 0.4951, 0.4943, 0.5265],\n",
      "         [0.5740, 0.5299, 0.4988, 0.4818, 0.4906, 0.4907, 0.4926],\n",
      "         [0.5267, 0.4754, 0.4956, 0.4879, 0.5803, 0.4871, 0.5000]],\n",
      "\n",
      "        [[0.5208, 0.4904, 0.4739, 0.4900, 0.4853, 0.4914, 0.5348],\n",
      "         [0.5504, 0.4917, 0.4906, 0.4854, 0.5000, 0.4830, 0.5099],\n",
      "         [0.5574, 0.4778, 0.4875, 0.4831, 0.5207, 0.4801, 0.5170],\n",
      "         [0.5000, 0.5000, 0.5044, 0.4817, 0.5361, 0.4813, 0.5372],\n",
      "         [0.5312, 0.4869, 0.4945, 0.5000, 0.5389, 0.4847, 0.5084]],\n",
      "\n",
      "        [[0.5000, 0.5019, 0.5000, 0.4981, 0.5000, 0.4894, 0.5000],\n",
      "         [0.5176, 0.5172, 0.4942, 0.4875, 0.5143, 0.5000, 0.5129],\n",
      "         [0.4935, 0.4985, 0.5146, 0.4975, 0.5000, 0.4989, 0.5214],\n",
      "         [0.5172, 0.5064, 0.4933, 0.4895, 0.5239, 0.4955, 0.5347],\n",
      "         [0.5414, 0.4993, 0.4887, 0.4951, 0.5231, 0.4911, 0.5392]]])\n"
     ]
    }
   ],
   "source": [
    "with torch.no_grad():\n",
    "    outputs = model(batch[\"inputs\"], batch[\"mask\"])\n",
    "\n",
    "print(outputs[\"params\"])"
   ]
  },
  {
   "cell_type": "code",
   "execution_count": 51,
   "metadata": {},
   "outputs": [
    {
     "data": {
      "text/plain": [
       "tensor([5, 5, 5, 5, 5, 5, 5, 5, 5, 5, 5, 5, 5, 5, 5, 5])"
      ]
     },
     "execution_count": 51,
     "metadata": {},
     "output_type": "execute_result"
    }
   ],
   "source": [
    "torch.LongTensor([MAX_EVENT_TRACKS]*len(outputs[\"params\"]))"
   ]
  },
  {
   "cell_type": "markdown",
   "metadata": {},
   "source": [
    "### L1 Distance for Hungarian Loss"
   ]
  },
  {
   "cell_type": "code",
   "execution_count": 53,
   "metadata": {},
   "outputs": [
    {
     "data": {
      "application/vnd.jupyter.widget-view+json": {
       "model_id": "929cff1fc88c405490328175f7606151",
       "version_major": 2,
       "version_minor": 0
      },
      "text/plain": [
       "  0%|          | 0/10000 [00:00<?, ?it/s]"
      ]
     },
     "metadata": {},
     "output_type": "display_data"
    }
   ],
   "source": [
    "from tqdm.notebook import tqdm\n",
    "\n",
    "device = 'cuda' if torch.cuda.is_available(\n",
    ") else 'mps' if torch.backends.mps.is_available() else 'cpu'\n",
    "\n",
    "model = TRT(\n",
    "    num_candidates=MAX_EVENT_TRACKS,\n",
    "    n_points=TRUNCATION_LENGTH,\n",
    "    num_out_params=batch[\"targets\"].shape[2]\n",
    ").to(device)\n",
    "criterion = TRTHungarianLoss().to(device)\n",
    "\n",
    "optimizer = torch.optim.AdamW(model.parameters(), lr=0.0003)\n",
    "progress_bar = tqdm(range(10000))\n",
    "for epoch in progress_bar:\n",
    "    train_loss = 0\n",
    "\n",
    "    optimizer.zero_grad(set_to_none=True)\n",
    "    outputs = model(batch[\"inputs\"].to(device), batch[\"mask\"].to(device))\n",
    "    loss = criterion(\n",
    "        preds=outputs[\"params\"],\n",
    "        targets=batch[\"targets\"].to(device),\n",
    "        preds_lengths=torch.LongTensor(\n",
    "            [MAX_EVENT_TRACKS]*len(outputs[\"params\"])\n",
    "        ).to(device),\n",
    "        targets_lengths=batch[\"n_tracks_per_sample\"].to(device)\n",
    "    )\n",
    "    loss.backward()\n",
    "    optimizer.step()\n",
    "\n",
    "    progress_bar.set_postfix({\"epoch\": epoch, \"loss\": loss.detach().item()})"
   ]
  },
  {
   "cell_type": "markdown",
   "metadata": {},
   "source": [
    "### L1 Smooth Distance for Hungarian Loss"
   ]
  },
  {
   "cell_type": "code",
   "execution_count": 60,
   "metadata": {},
   "outputs": [
    {
     "data": {
      "application/vnd.jupyter.widget-view+json": {
       "model_id": "9c35911212224cfa9293698f04945c7e",
       "version_major": 2,
       "version_minor": 0
      },
      "text/plain": [
       "  0%|          | 0/10000 [00:00<?, ?it/s]"
      ]
     },
     "metadata": {},
     "output_type": "display_data"
    }
   ],
   "source": [
    "from tqdm.notebook import tqdm\n",
    "\n",
    "device = 'cuda' if torch.cuda.is_available(\n",
    ") else 'mps' if torch.backends.mps.is_available() else 'cpu'\n",
    "\n",
    "model = TRT(\n",
    "    num_candidates=MAX_EVENT_TRACKS,\n",
    "    n_points=TRUNCATION_LENGTH,\n",
    "    num_out_params=batch[\"targets\"].shape[2]\n",
    ").to(device)\n",
    "criterion = TRTHungarianLoss(distance=F.smooth_l1_loss).to(device)\n",
    "\n",
    "optimizer = torch.optim.AdamW(model.parameters(), lr=0.0003)\n",
    "progress_bar = tqdm(range(10000))\n",
    "for epoch in progress_bar:\n",
    "    train_loss = 0\n",
    "\n",
    "    optimizer.zero_grad(set_to_none=True)\n",
    "    outputs = model(batch[\"inputs\"].to(device), batch[\"mask\"].to(device))\n",
    "    loss = criterion(\n",
    "        preds=outputs[\"params\"],\n",
    "        targets=batch[\"targets\"].to(device),\n",
    "        preds_lengths=torch.LongTensor(\n",
    "            [MAX_EVENT_TRACKS]*len(outputs[\"params\"])\n",
    "        ).to(device),\n",
    "        targets_lengths=batch[\"n_tracks_per_sample\"].to(device)\n",
    "    )\n",
    "    loss.backward()\n",
    "    optimizer.step()\n",
    "\n",
    "    progress_bar.set_postfix({\"epoch\": epoch, \"loss\": loss.detach().item()})"
   ]
  },
  {
   "cell_type": "markdown",
   "metadata": {},
   "source": [
    "### MSE distance for Hungarian Loss"
   ]
  },
  {
   "cell_type": "code",
   "execution_count": 61,
   "metadata": {},
   "outputs": [
    {
     "data": {
      "application/vnd.jupyter.widget-view+json": {
       "model_id": "dc8db4ff0070428b99efbaef74ed806c",
       "version_major": 2,
       "version_minor": 0
      },
      "text/plain": [
       "  0%|          | 0/10000 [00:00<?, ?it/s]"
      ]
     },
     "metadata": {},
     "output_type": "display_data"
    },
    {
     "ename": "KeyboardInterrupt",
     "evalue": "",
     "output_type": "error",
     "traceback": [
      "\u001b[0;31m---------------------------------------------------------------------------\u001b[0m",
      "\u001b[0;31mKeyboardInterrupt\u001b[0m                         Traceback (most recent call last)",
      "Cell \u001b[0;32mIn[61], line 20\u001b[0m\n\u001b[1;32m     18\u001b[0m optimizer\u001b[38;5;241m.\u001b[39mzero_grad(set_to_none\u001b[38;5;241m=\u001b[39m\u001b[38;5;28;01mTrue\u001b[39;00m)\n\u001b[1;32m     19\u001b[0m outputs \u001b[38;5;241m=\u001b[39m model(batch[\u001b[38;5;124m\"\u001b[39m\u001b[38;5;124minputs\u001b[39m\u001b[38;5;124m\"\u001b[39m]\u001b[38;5;241m.\u001b[39mto(device), batch[\u001b[38;5;124m\"\u001b[39m\u001b[38;5;124mmask\u001b[39m\u001b[38;5;124m\"\u001b[39m]\u001b[38;5;241m.\u001b[39mto(device))\n\u001b[0;32m---> 20\u001b[0m loss \u001b[38;5;241m=\u001b[39m \u001b[43mcriterion\u001b[49m\u001b[43m(\u001b[49m\n\u001b[1;32m     21\u001b[0m \u001b[43m    \u001b[49m\u001b[43mpreds\u001b[49m\u001b[38;5;241;43m=\u001b[39;49m\u001b[43moutputs\u001b[49m\u001b[43m[\u001b[49m\u001b[38;5;124;43m\"\u001b[39;49m\u001b[38;5;124;43mparams\u001b[39;49m\u001b[38;5;124;43m\"\u001b[39;49m\u001b[43m]\u001b[49m\u001b[43m,\u001b[49m\n\u001b[1;32m     22\u001b[0m \u001b[43m    \u001b[49m\u001b[43mtargets\u001b[49m\u001b[38;5;241;43m=\u001b[39;49m\u001b[43mbatch\u001b[49m\u001b[43m[\u001b[49m\u001b[38;5;124;43m\"\u001b[39;49m\u001b[38;5;124;43mtargets\u001b[39;49m\u001b[38;5;124;43m\"\u001b[39;49m\u001b[43m]\u001b[49m\u001b[38;5;241;43m.\u001b[39;49m\u001b[43mto\u001b[49m\u001b[43m(\u001b[49m\u001b[43mdevice\u001b[49m\u001b[43m)\u001b[49m\u001b[43m,\u001b[49m\n\u001b[1;32m     23\u001b[0m \u001b[43m    \u001b[49m\u001b[43mpreds_lengths\u001b[49m\u001b[38;5;241;43m=\u001b[39;49m\u001b[43mtorch\u001b[49m\u001b[38;5;241;43m.\u001b[39;49m\u001b[43mLongTensor\u001b[49m\u001b[43m(\u001b[49m\n\u001b[1;32m     24\u001b[0m \u001b[43m        \u001b[49m\u001b[43m[\u001b[49m\u001b[43mMAX_EVENT_TRACKS\u001b[49m\u001b[43m]\u001b[49m\u001b[38;5;241;43m*\u001b[39;49m\u001b[38;5;28;43mlen\u001b[39;49m\u001b[43m(\u001b[49m\u001b[43moutputs\u001b[49m\u001b[43m[\u001b[49m\u001b[38;5;124;43m\"\u001b[39;49m\u001b[38;5;124;43mparams\u001b[39;49m\u001b[38;5;124;43m\"\u001b[39;49m\u001b[43m]\u001b[49m\u001b[43m)\u001b[49m\n\u001b[1;32m     25\u001b[0m \u001b[43m    \u001b[49m\u001b[43m)\u001b[49m\u001b[38;5;241;43m.\u001b[39;49m\u001b[43mto\u001b[49m\u001b[43m(\u001b[49m\u001b[43mdevice\u001b[49m\u001b[43m)\u001b[49m\u001b[43m,\u001b[49m\n\u001b[1;32m     26\u001b[0m \u001b[43m    \u001b[49m\u001b[43mtargets_lengths\u001b[49m\u001b[38;5;241;43m=\u001b[39;49m\u001b[43mbatch\u001b[49m\u001b[43m[\u001b[49m\u001b[38;5;124;43m\"\u001b[39;49m\u001b[38;5;124;43mn_tracks_per_sample\u001b[39;49m\u001b[38;5;124;43m\"\u001b[39;49m\u001b[43m]\u001b[49m\u001b[38;5;241;43m.\u001b[39;49m\u001b[43mto\u001b[49m\u001b[43m(\u001b[49m\u001b[43mdevice\u001b[49m\u001b[43m)\u001b[49m\n\u001b[1;32m     27\u001b[0m \u001b[43m\u001b[49m\u001b[43m)\u001b[49m\n\u001b[1;32m     28\u001b[0m loss\u001b[38;5;241m.\u001b[39mbackward()\n\u001b[1;32m     29\u001b[0m optimizer\u001b[38;5;241m.\u001b[39mstep()\n",
      "File \u001b[0;32m~/projects/trt/.venv/lib/python3.9/site-packages/torch/nn/modules/module.py:1532\u001b[0m, in \u001b[0;36mModule._wrapped_call_impl\u001b[0;34m(self, *args, **kwargs)\u001b[0m\n\u001b[1;32m   1530\u001b[0m     \u001b[38;5;28;01mreturn\u001b[39;00m \u001b[38;5;28mself\u001b[39m\u001b[38;5;241m.\u001b[39m_compiled_call_impl(\u001b[38;5;241m*\u001b[39margs, \u001b[38;5;241m*\u001b[39m\u001b[38;5;241m*\u001b[39mkwargs)  \u001b[38;5;66;03m# type: ignore[misc]\u001b[39;00m\n\u001b[1;32m   1531\u001b[0m \u001b[38;5;28;01melse\u001b[39;00m:\n\u001b[0;32m-> 1532\u001b[0m     \u001b[38;5;28;01mreturn\u001b[39;00m \u001b[38;5;28;43mself\u001b[39;49m\u001b[38;5;241;43m.\u001b[39;49m\u001b[43m_call_impl\u001b[49m\u001b[43m(\u001b[49m\u001b[38;5;241;43m*\u001b[39;49m\u001b[43margs\u001b[49m\u001b[43m,\u001b[49m\u001b[43m \u001b[49m\u001b[38;5;241;43m*\u001b[39;49m\u001b[38;5;241;43m*\u001b[39;49m\u001b[43mkwargs\u001b[49m\u001b[43m)\u001b[49m\n",
      "File \u001b[0;32m~/projects/trt/.venv/lib/python3.9/site-packages/torch/nn/modules/module.py:1541\u001b[0m, in \u001b[0;36mModule._call_impl\u001b[0;34m(self, *args, **kwargs)\u001b[0m\n\u001b[1;32m   1536\u001b[0m \u001b[38;5;66;03m# If we don't have any hooks, we want to skip the rest of the logic in\u001b[39;00m\n\u001b[1;32m   1537\u001b[0m \u001b[38;5;66;03m# this function, and just call forward.\u001b[39;00m\n\u001b[1;32m   1538\u001b[0m \u001b[38;5;28;01mif\u001b[39;00m \u001b[38;5;129;01mnot\u001b[39;00m (\u001b[38;5;28mself\u001b[39m\u001b[38;5;241m.\u001b[39m_backward_hooks \u001b[38;5;129;01mor\u001b[39;00m \u001b[38;5;28mself\u001b[39m\u001b[38;5;241m.\u001b[39m_backward_pre_hooks \u001b[38;5;129;01mor\u001b[39;00m \u001b[38;5;28mself\u001b[39m\u001b[38;5;241m.\u001b[39m_forward_hooks \u001b[38;5;129;01mor\u001b[39;00m \u001b[38;5;28mself\u001b[39m\u001b[38;5;241m.\u001b[39m_forward_pre_hooks\n\u001b[1;32m   1539\u001b[0m         \u001b[38;5;129;01mor\u001b[39;00m _global_backward_pre_hooks \u001b[38;5;129;01mor\u001b[39;00m _global_backward_hooks\n\u001b[1;32m   1540\u001b[0m         \u001b[38;5;129;01mor\u001b[39;00m _global_forward_hooks \u001b[38;5;129;01mor\u001b[39;00m _global_forward_pre_hooks):\n\u001b[0;32m-> 1541\u001b[0m     \u001b[38;5;28;01mreturn\u001b[39;00m \u001b[43mforward_call\u001b[49m\u001b[43m(\u001b[49m\u001b[38;5;241;43m*\u001b[39;49m\u001b[43margs\u001b[49m\u001b[43m,\u001b[49m\u001b[43m \u001b[49m\u001b[38;5;241;43m*\u001b[39;49m\u001b[38;5;241;43m*\u001b[39;49m\u001b[43mkwargs\u001b[49m\u001b[43m)\u001b[49m\n\u001b[1;32m   1543\u001b[0m \u001b[38;5;28;01mtry\u001b[39;00m:\n\u001b[1;32m   1544\u001b[0m     result \u001b[38;5;241m=\u001b[39m \u001b[38;5;28;01mNone\u001b[39;00m\n",
      "Cell \u001b[0;32mIn[55], line 37\u001b[0m, in \u001b[0;36mTRTHungarianLoss.forward\u001b[0;34m(self, preds, targets, preds_lengths, targets_lengths)\u001b[0m\n\u001b[1;32m     33\u001b[0m hungarian \u001b[38;5;241m=\u001b[39m torch\u001b[38;5;241m.\u001b[39mtensor(\u001b[38;5;241m0.0\u001b[39m)\u001b[38;5;241m.\u001b[39mto(preds\u001b[38;5;241m.\u001b[39mdevice)\n\u001b[1;32m     34\u001b[0m \u001b[38;5;28;01mfor\u001b[39;00m i \u001b[38;5;129;01min\u001b[39;00m \u001b[38;5;28mrange\u001b[39m(preds\u001b[38;5;241m.\u001b[39mshape[\u001b[38;5;241m0\u001b[39m]):\n\u001b[1;32m     35\u001b[0m     hungarian \u001b[38;5;241m+\u001b[39m\u001b[38;5;241m=\u001b[39m hungarian_loss(\n\u001b[1;32m     36\u001b[0m         preds[i, :preds_lengths[i]],\n\u001b[0;32m---> 37\u001b[0m         \u001b[43mtargets\u001b[49m\u001b[43m[\u001b[49m\u001b[43mi\u001b[49m\u001b[43m,\u001b[49m\u001b[43m \u001b[49m\u001b[43m:\u001b[49m\u001b[43mtargets_lengths\u001b[49m\u001b[43m[\u001b[49m\u001b[43mi\u001b[49m\u001b[43m]\u001b[49m\u001b[43m]\u001b[49m,\n\u001b[1;32m     38\u001b[0m         distance\u001b[38;5;241m=\u001b[39m\u001b[38;5;28mself\u001b[39m\u001b[38;5;241m.\u001b[39m_distance\n\u001b[1;32m     39\u001b[0m     )\n\u001b[1;32m     40\u001b[0m hungarian \u001b[38;5;241m/\u001b[39m\u001b[38;5;241m=\u001b[39m preds\u001b[38;5;241m.\u001b[39mshape[\u001b[38;5;241m0\u001b[39m]  \u001b[38;5;66;03m# batchmean\u001b[39;00m\n\u001b[1;32m     41\u001b[0m \u001b[38;5;28;01mreturn\u001b[39;00m hungarian\n",
      "\u001b[0;31mKeyboardInterrupt\u001b[0m: "
     ]
    }
   ],
   "source": [
    "from tqdm.notebook import tqdm\n",
    "\n",
    "device = 'cuda' if torch.cuda.is_available(\n",
    ") else 'mps' if torch.backends.mps.is_available() else 'cpu'\n",
    "\n",
    "model = TRT(\n",
    "    num_candidates=MAX_EVENT_TRACKS,\n",
    "    n_points=TRUNCATION_LENGTH,\n",
    "    num_out_params=batch[\"targets\"].shape[2]\n",
    ").to(device)\n",
    "criterion = TRTHungarianLoss(distance=F.mse_loss).to(device)\n",
    "\n",
    "optimizer = torch.optim.AdamW(model.parameters(), lr=0.0003)\n",
    "progress_bar = tqdm(range(10000))\n",
    "for epoch in progress_bar:\n",
    "    train_loss = 0\n",
    "\n",
    "    optimizer.zero_grad(set_to_none=True)\n",
    "    outputs = model(batch[\"inputs\"].to(device), batch[\"mask\"].to(device))\n",
    "    loss = criterion(\n",
    "        preds=outputs[\"params\"],\n",
    "        targets=batch[\"targets\"].to(device),\n",
    "        preds_lengths=torch.LongTensor(\n",
    "            [MAX_EVENT_TRACKS]*len(outputs[\"params\"])\n",
    "        ).to(device),\n",
    "        targets_lengths=batch[\"n_tracks_per_sample\"].to(device)\n",
    "    )\n",
    "    loss.backward()\n",
    "    optimizer.step()\n",
    "\n",
    "    progress_bar.set_postfix({\"epoch\": epoch, \"loss\": loss.detach().item()})"
   ]
  }
 ],
 "metadata": {
  "kernelspec": {
   "display_name": ".venv",
   "language": "python",
   "name": "python3"
  },
  "language_info": {
   "codemirror_mode": {
    "name": "ipython",
    "version": 3
   },
   "file_extension": ".py",
   "mimetype": "text/x-python",
   "name": "python",
   "nbconvert_exporter": "python",
   "pygments_lexer": "ipython3",
   "version": "3.9.12"
  }
 },
 "nbformat": 4,
 "nbformat_minor": 2
}

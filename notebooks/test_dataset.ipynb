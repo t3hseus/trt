{
 "cells": [
  {
   "cell_type": "code",
   "execution_count": 1,
   "metadata": {},
   "outputs": [],
   "source": [
    "import numpy as np\n",
    "import os\n",
    "\n",
    "from pathlib import Path\n",
    "\n",
    "# change working directory to make src visible\n",
    "os.chdir(Path.cwd().parent)\n",
    "\n",
    "from src.dataset import SPDEventsDataset\n",
    "from src.normalization import ConstraintsNormalizer, TrackParamsNormalizer"
   ]
  },
  {
   "cell_type": "code",
   "execution_count": 2,
   "metadata": {},
   "outputs": [],
   "source": [
    "np.random.seed(42)\n",
    "\n",
    "dataset = SPDEventsDataset(\n",
    "    hits_normalizer=ConstraintsNormalizer(),\n",
    "    track_params_normalizer=TrackParamsNormalizer(),\n",
    "    shuffle=True,\n",
    ")"
   ]
  },
  {
   "cell_type": "code",
   "execution_count": 3,
   "metadata": {},
   "outputs": [],
   "source": [
    "sample = dataset[0]"
   ]
  },
  {
   "cell_type": "code",
   "execution_count": 4,
   "metadata": {},
   "outputs": [
    {
     "data": {
      "text/plain": [
       "{'hits': array([[-0.28403901,  0.15882117, -0.37502865],\n",
       "        [-0.80633537, -0.22986594, -0.19392248],\n",
       "        [-0.56487029,  0.12186746,  0.54244963],\n",
       "        ...,\n",
       "        [-0.35769091, -0.25200208, -0.65893922],\n",
       "        [ 0.1086406 , -0.87180812, -0.56872047],\n",
       "        [-0.49563133, -0.045159  ,  0.81616737]]),\n",
       " 'hit_labels': array([ 8, -1, -1, ..., -1, -1, -1]),\n",
       " 'params': array([[0.5029184 , 0.49918765, 0.5291694 , 0.38292688, 0.9717121 ,\n",
       "         0.25415015, 0.        ],\n",
       "        [0.5029184 , 0.49918765, 0.5291694 , 0.5245114 , 0.4103968 ,\n",
       "         0.08475863, 0.        ],\n",
       "        [0.5029184 , 0.49918765, 0.5291694 , 0.9497999 , 0.7257195 ,\n",
       "         0.4271637 , 1.        ],\n",
       "        [0.5029184 , 0.49918765, 0.5291694 , 0.47347176, 0.17320187,\n",
       "         0.5422352 , 0.        ],\n",
       "        [0.5029184 , 0.49918765, 0.5291694 , 0.5986585 , 0.15601864,\n",
       "         0.74151593, 0.        ],\n",
       "        [0.5029184 , 0.49918765, 0.5291694 , 0.6775644 , 0.01658783,\n",
       "         0.49230057, 0.        ],\n",
       "        [0.5029184 , 0.49918765, 0.5291694 , 0.8442131 , 0.9300168 ,\n",
       "         0.8290181 , 1.        ],\n",
       "        [0.5029184 , 0.49918765, 0.5291694 , 0.9461945 , 0.7812961 ,\n",
       "         0.7812803 , 0.        ],\n",
       "        [0.5029184 , 0.49918765, 0.5291694 , 0.9078661 , 0.3161966 ,\n",
       "         0.4434858 , 1.        ],\n",
       "        [0.5029184 , 0.49918765, 0.5291694 , 0.9731104 , 0.6019354 ,\n",
       "         0.6862504 , 0.        ]], dtype=float32),\n",
       " 'orig_params': array([[ 4.96715450e+00, -1.38262260e+00,  1.39196289e+02,\n",
       "          4.44634186e+02,  6.10544729e+00,  7.98436224e-01,\n",
       "         -1.00000000e+00],\n",
       "        [ 4.96715450e+00, -1.38262260e+00,  1.39196289e+02,\n",
       "          5.72060242e+02,  2.57859921e+00,  2.66277105e-01,\n",
       "         -1.00000000e+00],\n",
       "        [ 4.96715450e+00, -1.38262260e+00,  1.39196289e+02,\n",
       "          9.54819885e+02,  4.55983019e+00,  1.34197426e+00,\n",
       "          1.00000000e+00],\n",
       "        [ 4.96715450e+00, -1.38262260e+00,  1.39196289e+02,\n",
       "          5.26124573e+02,  1.08825946e+00,  1.70348215e+00,\n",
       "         -1.00000000e+00],\n",
       "        [ 4.96715450e+00, -1.38262260e+00,  1.39196289e+02,\n",
       "          6.38792664e+02,  9.80294049e-01,  2.32954097e+00,\n",
       "         -1.00000000e+00],\n",
       "        [ 4.96715450e+00, -1.38262260e+00,  1.39196289e+02,\n",
       "          7.09807922e+02,  1.04224406e-01,  1.54660785e+00,\n",
       "         -1.00000000e+00],\n",
       "        [ 4.96715450e+00, -1.38262260e+00,  1.39196289e+02,\n",
       "          8.59791809e+02,  5.84346819e+00,  2.60443711e+00,\n",
       "          1.00000000e+00],\n",
       "        [ 4.96715450e+00, -1.38262260e+00,  1.39196289e+02,\n",
       "          9.51575073e+02,  4.90902805e+00,  2.45446444e+00,\n",
       "         -1.00000000e+00],\n",
       "        [ 4.96715450e+00, -1.38262260e+00,  1.39196289e+02,\n",
       "          9.17079529e+02,  1.98672175e+00,  1.39325178e+00,\n",
       "          1.00000000e+00],\n",
       "        [ 4.96715450e+00, -1.38262260e+00,  1.39196289e+02,\n",
       "          9.75799316e+02,  3.78207159e+00,  2.15591908e+00,\n",
       "         -1.00000000e+00]], dtype=float32),\n",
       " 'param_labels': array([1, 8, 6, 4, 0, 2, 3, 5, 9, 7], dtype=int32),\n",
       " 'mask': array([ True,  True,  True, ...,  True,  True,  True])}"
      ]
     },
     "execution_count": 4,
     "metadata": {},
     "output_type": "execute_result"
    }
   ],
   "source": [
    "sample"
   ]
  },
  {
   "cell_type": "code",
   "execution_count": 5,
   "metadata": {},
   "outputs": [
    {
     "data": {
      "text/plain": [
       "(3288, 3)"
      ]
     },
     "execution_count": 5,
     "metadata": {},
     "output_type": "execute_result"
    }
   ],
   "source": [
    "sample[\"hits\"].shape"
   ]
  },
  {
   "cell_type": "code",
   "execution_count": 6,
   "metadata": {},
   "outputs": [
    {
     "data": {
      "text/plain": [
       "(3288,)"
      ]
     },
     "execution_count": 6,
     "metadata": {},
     "output_type": "execute_result"
    }
   ],
   "source": [
    "sample[\"hit_labels\"].shape"
   ]
  },
  {
   "cell_type": "code",
   "execution_count": 7,
   "metadata": {},
   "outputs": [
    {
     "data": {
      "text/plain": [
       "array([1, 8, 6, 4, 0, 2, 3, 5, 9, 7], dtype=int32)"
      ]
     },
     "execution_count": 7,
     "metadata": {},
     "output_type": "execute_result"
    }
   ],
   "source": [
    "sample[\"param_labels\"]"
   ]
  },
  {
   "cell_type": "code",
   "execution_count": 8,
   "metadata": {},
   "outputs": [
    {
     "data": {
      "text/plain": [
       "array([[0.503, 0.499, 0.529, 0.383, 0.972, 0.254, 0.   ],\n",
       "       [0.503, 0.499, 0.529, 0.525, 0.41 , 0.085, 0.   ],\n",
       "       [0.503, 0.499, 0.529, 0.95 , 0.726, 0.427, 1.   ],\n",
       "       [0.503, 0.499, 0.529, 0.473, 0.173, 0.542, 0.   ],\n",
       "       [0.503, 0.499, 0.529, 0.599, 0.156, 0.742, 0.   ],\n",
       "       [0.503, 0.499, 0.529, 0.678, 0.017, 0.492, 0.   ],\n",
       "       [0.503, 0.499, 0.529, 0.844, 0.93 , 0.829, 1.   ],\n",
       "       [0.503, 0.499, 0.529, 0.946, 0.781, 0.781, 0.   ],\n",
       "       [0.503, 0.499, 0.529, 0.908, 0.316, 0.443, 1.   ],\n",
       "       [0.503, 0.499, 0.529, 0.973, 0.602, 0.686, 0.   ]], dtype=float32)"
      ]
     },
     "execution_count": 8,
     "metadata": {},
     "output_type": "execute_result"
    }
   ],
   "source": [
    "np.round(sample[\"params\"], 3)"
   ]
  },
  {
   "cell_type": "code",
   "execution_count": 10,
   "metadata": {},
   "outputs": [
    {
     "data": {
      "text/plain": [
       "array([[ 4.9700e+00, -1.3800e+00,  1.3920e+02,  4.4463e+02,  6.1100e+00,\n",
       "         8.0000e-01, -1.0000e+00],\n",
       "       [ 4.9700e+00, -1.3800e+00,  1.3920e+02,  5.7206e+02,  2.5800e+00,\n",
       "         2.7000e-01, -1.0000e+00],\n",
       "       [ 4.9700e+00, -1.3800e+00,  1.3920e+02,  9.5482e+02,  4.5600e+00,\n",
       "         1.3400e+00,  1.0000e+00],\n",
       "       [ 4.9700e+00, -1.3800e+00,  1.3920e+02,  5.2612e+02,  1.0900e+00,\n",
       "         1.7000e+00, -1.0000e+00],\n",
       "       [ 4.9700e+00, -1.3800e+00,  1.3920e+02,  6.3879e+02,  9.8000e-01,\n",
       "         2.3300e+00, -1.0000e+00]], dtype=float32)"
      ]
     },
     "execution_count": 10,
     "metadata": {},
     "output_type": "execute_result"
    }
   ],
   "source": [
    "vectorized_denorm = np.vectorize(dataset.track_params_normalizer.denormalize)\n",
    "orig_params = np.apply_along_axis(\n",
    "    dataset.track_params_normalizer.denormalize, axis=1, arr=sample[\"params\"][:5]\n",
    ")\n",
    "np.round(orig_params, 2)"
   ]
  },
  {
   "cell_type": "code",
   "execution_count": 11,
   "metadata": {},
   "outputs": [
    {
     "data": {
      "text/plain": [
       "array([[ 4.9700e+00, -1.3800e+00,  1.3920e+02,  4.4463e+02,  6.1100e+00,\n",
       "         8.0000e-01, -1.0000e+00],\n",
       "       [ 4.9700e+00, -1.3800e+00,  1.3920e+02,  5.7206e+02,  2.5800e+00,\n",
       "         2.7000e-01, -1.0000e+00],\n",
       "       [ 4.9700e+00, -1.3800e+00,  1.3920e+02,  9.5482e+02,  4.5600e+00,\n",
       "         1.3400e+00,  1.0000e+00],\n",
       "       [ 4.9700e+00, -1.3800e+00,  1.3920e+02,  5.2612e+02,  1.0900e+00,\n",
       "         1.7000e+00, -1.0000e+00],\n",
       "       [ 4.9700e+00, -1.3800e+00,  1.3920e+02,  6.3879e+02,  9.8000e-01,\n",
       "         2.3300e+00, -1.0000e+00],\n",
       "       [ 4.9700e+00, -1.3800e+00,  1.3920e+02,  7.0981e+02,  1.0000e-01,\n",
       "         1.5500e+00, -1.0000e+00],\n",
       "       [ 4.9700e+00, -1.3800e+00,  1.3920e+02,  8.5979e+02,  5.8400e+00,\n",
       "         2.6000e+00,  1.0000e+00],\n",
       "       [ 4.9700e+00, -1.3800e+00,  1.3920e+02,  9.5158e+02,  4.9100e+00,\n",
       "         2.4500e+00, -1.0000e+00],\n",
       "       [ 4.9700e+00, -1.3800e+00,  1.3920e+02,  9.1708e+02,  1.9900e+00,\n",
       "         1.3900e+00,  1.0000e+00],\n",
       "       [ 4.9700e+00, -1.3800e+00,  1.3920e+02,  9.7580e+02,  3.7800e+00,\n",
       "         2.1600e+00, -1.0000e+00]], dtype=float32)"
      ]
     },
     "execution_count": 11,
     "metadata": {},
     "output_type": "execute_result"
    }
   ],
   "source": [
    "dataset.track_params_normalizer = None\n",
    "sample = dataset[0]\n",
    "np.round(sample[\"params\"], 2)"
   ]
  },
  {
   "cell_type": "markdown",
   "metadata": {},
   "source": [
    "## Test dataloader"
   ]
  },
  {
   "cell_type": "code",
   "execution_count": 12,
   "metadata": {},
   "outputs": [],
   "source": [
    "from torch.utils.data import DataLoader\n",
    "from src.dataset import collate_fn"
   ]
  },
  {
   "cell_type": "markdown",
   "metadata": {},
   "source": [
    "#### Without normalization for parameters"
   ]
  },
  {
   "cell_type": "code",
   "execution_count": 13,
   "metadata": {},
   "outputs": [
    {
     "data": {
      "text/plain": [
       "['inputs: torch.Size([4, 3807, 3])',\n",
       " 'mask: torch.Size([4, 3807])',\n",
       " 'targets: torch.Size([4, 10, 7])',\n",
       " 'orig_params: torch.Size([4, 10, 7])']"
      ]
     },
     "execution_count": 13,
     "metadata": {},
     "output_type": "execute_result"
    }
   ],
   "source": [
    "train_loader = DataLoader(dataset, batch_size=4, collate_fn=collate_fn)\n",
    "batch = next(iter(train_loader))\n",
    "[f\"{k}: {v.shape}\" for k, v in batch.items()]"
   ]
  },
  {
   "cell_type": "code",
   "execution_count": 14,
   "metadata": {},
   "outputs": [
    {
     "data": {
      "text/plain": [
       "tensor([[[ 4.9671e+00, -1.3826e+00,  1.3920e+02,  4.4463e+02,  6.1054e+00,\n",
       "           7.9844e-01, -1.0000e+00],\n",
       "         [ 4.9671e+00, -1.3826e+00,  1.3920e+02,  5.7206e+02,  2.5786e+00,\n",
       "           2.6628e-01, -1.0000e+00],\n",
       "         [ 4.9671e+00, -1.3826e+00,  1.3920e+02,  9.5482e+02,  4.5598e+00,\n",
       "           1.3420e+00,  1.0000e+00],\n",
       "         [ 4.9671e+00, -1.3826e+00,  1.3920e+02,  5.2612e+02,  1.0883e+00,\n",
       "           1.7035e+00, -1.0000e+00],\n",
       "         [ 4.9671e+00, -1.3826e+00,  1.3920e+02,  6.3879e+02,  9.8029e-01,\n",
       "           2.3295e+00, -1.0000e+00],\n",
       "         [ 4.9671e+00, -1.3826e+00,  1.3920e+02,  7.0981e+02,  1.0422e-01,\n",
       "           1.5466e+00, -1.0000e+00],\n",
       "         [ 4.9671e+00, -1.3826e+00,  1.3920e+02,  8.5979e+02,  5.8435e+00,\n",
       "           2.6044e+00,  1.0000e+00],\n",
       "         [ 4.9671e+00, -1.3826e+00,  1.3920e+02,  9.5158e+02,  4.9090e+00,\n",
       "           2.4545e+00, -1.0000e+00],\n",
       "         [ 4.9671e+00, -1.3826e+00,  1.3920e+02,  9.1708e+02,  1.9867e+00,\n",
       "           1.3933e+00,  1.0000e+00],\n",
       "         [ 4.9671e+00, -1.3826e+00,  1.3920e+02,  9.7580e+02,  3.7821e+00,\n",
       "           2.1559e+00, -1.0000e+00]],\n",
       "\n",
       "        [[ 2.5740e+00, -9.0848e+00, -2.1997e+02,  2.0817e+02,  1.6642e+00,\n",
       "           1.0433e+00, -1.0000e+00],\n",
       "         [ 2.5740e+00, -9.0848e+00, -2.1997e+02,  5.0069e+02,  2.8115e-01,\n",
       "           1.6769e+00,  1.0000e+00],\n",
       "         [ 2.5740e+00, -9.0848e+00, -2.1997e+02,  9.3354e+02,  2.2226e+00,\n",
       "           1.8864e+00,  1.0000e+00],\n",
       "         [ 2.5740e+00, -9.0848e+00, -2.1997e+02,  3.4743e+02,  2.8663e+00,\n",
       "           1.1241e+00, -1.0000e+00],\n",
       "         [ 2.5740e+00, -9.0848e+00, -2.1997e+02,  3.9789e+02,  3.3609e+00,\n",
       "           1.0127e+00,  1.0000e+00],\n",
       "         [ 2.5740e+00, -9.0848e+00, -2.1997e+02,  3.1653e+02,  2.0555e+00,\n",
       "           7.6948e-01, -1.0000e+00],\n",
       "         [ 2.5740e+00, -9.0848e+00, -2.1997e+02,  7.6394e+02,  3.6392e-01,\n",
       "           8.0106e-01,  1.0000e+00],\n",
       "         [ 2.5740e+00, -9.0848e+00, -2.1997e+02,  1.7764e+02,  5.1567e+00,\n",
       "           5.6077e-01,  1.0000e+00],\n",
       "         [ 2.5740e+00, -9.0848e+00, -2.1997e+02,  8.2946e+02,  4.4988e+00,\n",
       "           1.0010e+00,  1.0000e+00],\n",
       "         [ 2.5740e+00, -9.0848e+00, -2.1997e+02,  7.2287e+02,  1.4600e+00,\n",
       "           8.4493e-01, -1.0000e+00]],\n",
       "\n",
       "        [[-7.5061e+00,  1.3164e+01, -8.4413e+01,  5.6018e+02,  5.6363e+00,\n",
       "           1.6927e+00, -1.0000e+00],\n",
       "         [-7.5061e+00,  1.3164e+01, -8.4413e+01,  4.8489e+02,  5.6573e+00,\n",
       "           1.9704e+00,  1.0000e+00],\n",
       "         [-7.5061e+00,  1.3164e+01, -8.4413e+01,  3.8400e+02,  6.0261e+00,\n",
       "           9.3729e-01, -1.0000e+00],\n",
       "         [-7.5061e+00,  1.3164e+01, -8.4413e+01,  6.4537e+02,  1.2309e+00,\n",
       "           1.3548e+00,  1.0000e+00],\n",
       "         [-7.5061e+00,  1.3164e+01, -8.4413e+01,  7.0874e+02,  3.8071e+00,\n",
       "           1.3382e+00, -1.0000e+00],\n",
       "         [-7.5061e+00,  1.3164e+01, -8.4413e+01,  6.2832e+02,  4.8494e+00,\n",
       "           1.8393e+00,  1.0000e+00],\n",
       "         [-7.5061e+00,  1.3164e+01, -8.4413e+01,  4.1225e+02,  7.4078e-01,\n",
       "           9.8429e-01, -1.0000e+00],\n",
       "         [-7.5061e+00,  1.3164e+01, -8.4413e+01,  1.3154e+02,  4.5218e+00,\n",
       "           8.1464e-01,  1.0000e+00],\n",
       "         [-7.5061e+00,  1.3164e+01, -8.4413e+01,  6.4831e+02,  2.4742e+00,\n",
       "           1.7537e+00,  1.0000e+00],\n",
       "         [-7.5061e+00,  1.3164e+01, -8.4413e+01,  5.9685e+02,  3.0607e+00,\n",
       "           1.4718e+00, -1.0000e+00]],\n",
       "\n",
       "        [[ 2.6375e-01,  2.6032e+00, -1.3113e+02,  4.6633e+02,  2.5915e+00,\n",
       "           1.4947e+00,  1.0000e+00],\n",
       "         [ 2.6375e-01,  2.6032e+00, -1.3113e+02,  6.3227e+02,  3.3398e+00,\n",
       "           2.4838e+00, -1.0000e+00],\n",
       "         [ 2.6375e-01,  2.6032e+00, -1.3113e+02,  9.8703e+02,  3.3590e+00,\n",
       "           1.8689e+00, -1.0000e+00],\n",
       "         [ 2.6375e-01,  2.6032e+00, -1.3113e+02,  2.4707e+02,  2.0281e+00,\n",
       "           1.6166e+00, -1.0000e+00],\n",
       "         [ 2.6375e-01,  2.6032e+00, -1.3113e+02,  7.4043e+02,  5.0094e+00,\n",
       "           2.2112e+00,  1.0000e+00],\n",
       "         [ 2.6375e-01,  2.6032e+00, -1.3113e+02,  1.6956e+02,  2.7927e+00,\n",
       "           1.6252e+00,  1.0000e+00],\n",
       "         [ 2.6375e-01,  2.6032e+00, -1.3113e+02,  3.3805e+02,  2.2274e+00,\n",
       "           2.2527e+00, -1.0000e+00],\n",
       "         [ 2.6375e-01,  2.6032e+00, -1.3113e+02,  2.2794e+02,  5.1266e+00,\n",
       "           8.4649e-01,  1.0000e+00],\n",
       "         [ 2.6375e-01,  2.6032e+00, -1.3113e+02,  3.1154e+02,  7.8004e-01,\n",
       "           2.4775e+00, -1.0000e+00],\n",
       "         [ 2.6375e-01,  2.6032e+00, -1.3113e+02,  6.8276e+02,  4.0055e+00,\n",
       "           2.5396e+00,  1.0000e+00]]])"
      ]
     },
     "execution_count": 14,
     "metadata": {},
     "output_type": "execute_result"
    }
   ],
   "source": [
    "batch[\"targets\"]"
   ]
  },
  {
   "cell_type": "code",
   "execution_count": 15,
   "metadata": {},
   "outputs": [
    {
     "data": {
      "text/plain": [
       "10"
      ]
     },
     "execution_count": 15,
     "metadata": {},
     "output_type": "execute_result"
    }
   ],
   "source": [
    "event_idx = 3\n",
    "np.unique(dataset[event_idx][\"hit_labels\"]).size - 1"
   ]
  },
  {
   "cell_type": "code",
   "execution_count": 16,
   "metadata": {},
   "outputs": [
    {
     "data": {
      "text/plain": [
       "(array([-1,  0,  1,  2,  3,  4,  5,  6,  7,  8,  9]),\n",
       " array([1925,   28,   27,   27,   31,   24,   23,   29,   29,   32,   27]))"
      ]
     },
     "execution_count": 16,
     "metadata": {},
     "output_type": "execute_result"
    }
   ],
   "source": [
    "np.unique(dataset[3][\"hit_labels\"][512:], return_counts=True)"
   ]
  },
  {
   "cell_type": "markdown",
   "metadata": {},
   "source": [
    "#### With normalized parameters"
   ]
  },
  {
   "cell_type": "code",
   "execution_count": 17,
   "metadata": {},
   "outputs": [],
   "source": [
    "def print_batch_statistics(batch):\n",
    "    for k, v in batch.items():\n",
    "        if k != \"mask\":\n",
    "            print(f\"{k}: shape: {list(v.shape)}, \"\n",
    "                f\"dtype: {v.dtype}, (min, mean, max): \"\n",
    "                f\"({v.min().item() :.4f}, {v.mean().item() :.4f}, {v.max().item() :.4f})\")\n",
    "        else:\n",
    "            print(f\"{k}: shape: {list(v.shape)}, dtype: {v.dtype}, \"\n",
    "                f\"real hits ratio: {v.sum() / v.numel() :.4f}\")"
   ]
  },
  {
   "cell_type": "code",
   "execution_count": 18,
   "metadata": {},
   "outputs": [
    {
     "name": "stdout",
     "output_type": "stream",
     "text": [
      "inputs: shape: [16, 3819, 3], dtype: torch.float32, (min, mean, max): (-0.9999, -0.0004, 1.0000)\n",
      "mask: shape: [16, 3819], dtype: torch.bool, real hits ratio: 0.7733\n",
      "targets: shape: [16, 10, 7], dtype: torch.float32, (min, mean, max): (0.0000, 0.5111, 1.0000)\n",
      "orig_params: shape: [16, 10, 7], dtype: torch.float32, (min, mean, max): (-266.1517, 85.3959, 998.2501)\n"
     ]
    }
   ],
   "source": [
    "dataset = SPDEventsDataset(\n",
    "    hits_normalizer=ConstraintsNormalizer(),\n",
    "    track_params_normalizer=TrackParamsNormalizer(),\n",
    "    shuffle=True,\n",
    ")\n",
    "\n",
    "train_loader = DataLoader(dataset, batch_size=16, collate_fn=collate_fn)\n",
    "batch = next(iter(train_loader))\n",
    "print_batch_statistics(batch)"
   ]
  },
  {
   "cell_type": "markdown",
   "metadata": {},
   "source": [
    "#### With normalization and truncation enabled"
   ]
  },
  {
   "cell_type": "code",
   "execution_count": 19,
   "metadata": {},
   "outputs": [
    {
     "name": "stdout",
     "output_type": "stream",
     "text": [
      "inputs: shape: [32, 512, 3], dtype: torch.float32, (min, mean, max): (-0.9999, 0.0002, 0.9999)\n",
      "mask: shape: [32, 512], dtype: torch.bool, real hits ratio: 1.0000\n",
      "targets: shape: [32, 10, 7], dtype: torch.float32, (min, mean, max): (0.0000, 0.5037, 1.0000)\n",
      "orig_params: shape: [32, 10, 7], dtype: torch.float32, (min, mean, max): (-280.1523, 84.8576, 997.9048)\n"
     ]
    }
   ],
   "source": [
    "dataset = SPDEventsDataset(\n",
    "    hits_normalizer=ConstraintsNormalizer(),\n",
    "    track_params_normalizer=TrackParamsNormalizer(),\n",
    "    shuffle=True,\n",
    "    max_event_tracks=10,\n",
    "    truncation_length=512,\n",
    ")\n",
    "\n",
    "train_loader = DataLoader(dataset, batch_size=32, collate_fn=collate_fn)\n",
    "batch = next(iter(train_loader))\n",
    "print_batch_statistics(batch)"
   ]
  },
  {
   "cell_type": "markdown",
   "metadata": {},
   "source": [
    "With smaller number of tracks"
   ]
  },
  {
   "cell_type": "code",
   "execution_count": 20,
   "metadata": {},
   "outputs": [
    {
     "name": "stdout",
     "output_type": "stream",
     "text": [
      "inputs: shape: [4, 512, 3], dtype: torch.float32, (min, mean, max): (-0.9970, 0.0228, 0.9986)\n",
      "mask: shape: [4, 512], dtype: torch.bool, real hits ratio: 1.0000\n",
      "targets: shape: [4, 5, 7], dtype: torch.float32, (min, mean, max): (0.0000, 0.4657, 1.0000)\n",
      "orig_params: shape: [4, 5, 7], dtype: torch.float32, (min, mean, max): (-191.0368, 70.4013, 997.3988)\n"
     ]
    }
   ],
   "source": [
    "dataset = SPDEventsDataset(\n",
    "    hits_normalizer=ConstraintsNormalizer(),\n",
    "    track_params_normalizer=TrackParamsNormalizer(),\n",
    "    shuffle=True,\n",
    "    max_event_tracks=5,\n",
    "    truncation_length=512,\n",
    ")\n",
    "\n",
    "train_loader = DataLoader(dataset, batch_size=4, collate_fn=collate_fn)\n",
    "batch_gen = iter(train_loader)\n",
    "batch = next(batch_gen)\n",
    "print_batch_statistics(batch)"
   ]
  },
  {
   "cell_type": "markdown",
   "metadata": {},
   "source": [
    "Next batch"
   ]
  },
  {
   "cell_type": "code",
   "execution_count": 21,
   "metadata": {},
   "outputs": [
    {
     "name": "stdout",
     "output_type": "stream",
     "text": [
      "inputs: shape: [4, 512, 3], dtype: torch.float32, (min, mean, max): (-0.9999, -0.0232, 0.9961)\n",
      "mask: shape: [4, 512], dtype: torch.bool, real hits ratio: 1.0000\n",
      "targets: shape: [4, 5, 7], dtype: torch.float32, (min, mean, max): (0.0000, 0.5007, 1.0000)\n",
      "orig_params: shape: [4, 5, 7], dtype: torch.float32, (min, mean, max): (-165.8356, 60.5103, 923.9129)\n"
     ]
    }
   ],
   "source": [
    "batch = next(batch_gen)\n",
    "print_batch_statistics(batch)"
   ]
  }
 ],
 "metadata": {
  "kernelspec": {
   "display_name": ".venv",
   "language": "python",
   "name": "python3"
  },
  "language_info": {
   "codemirror_mode": {
    "name": "ipython",
    "version": 3
   },
   "file_extension": ".py",
   "mimetype": "text/x-python",
   "name": "python",
   "nbconvert_exporter": "python",
   "pygments_lexer": "ipython3",
   "version": "3.9.12"
  }
 },
 "nbformat": 4,
 "nbformat_minor": 2
}

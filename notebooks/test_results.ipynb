{
 "cells": [
  {
   "cell_type": "code",
   "execution_count": null,
   "metadata": {},
   "outputs": [],
   "source": [
    "import numpy as np\n",
    "import os\n",
    "\n",
    "from pathlib import Path\n",
    "\n",
    "# change working directory to make src visible\n",
    "os.chdir(Path.cwd().parent)\n",
    "\n",
    "from src.data_generation import SPDEventGenerator\n",
    "from src.visualization import draw_event"
   ]
  },
  {
   "cell_type": "code",
   "execution_count": null,
   "metadata": {},
   "outputs": [],
   "source": [
    "event_gen = SPDEventGenerator(detector_eff=0.98)\n",
    "\n",
    "for _ in range(2):\n",
    "    event = event_gen.generate_spd_event()\n",
    "    print(event)"
   ]
  },
  {
   "cell_type": "code",
   "execution_count": null,
   "metadata": {},
   "outputs": [],
   "source": [
    "draw_event(\n",
    "    hits=event.hits,\n",
    "    fakes=event.fakes,\n",
    "    vertex=event.vertex.numpy,\n",
    "    labels=event.track_ids,\n",
    ")"
   ]
  },
  {
   "cell_type": "code",
   "execution_count": null,
   "metadata": {},
   "outputs": [],
   "source": [
    "event.track_params"
   ]
  },
  {
   "cell_type": "markdown",
   "metadata": {},
   "source": [
    "## Example of reproducing tracks by their parameters"
   ]
  },
  {
   "cell_type": "code",
   "execution_count": null,
   "metadata": {},
   "outputs": [],
   "source": [
    "track_params = event.track_params\n",
    "vertex = event.vertex\n",
    "magnetic_field = event_gen.magnetic_field\n",
    "z_coord_range = event_gen.z_coord_range\n",
    "radii = np.linspace(\n",
    "    event_gen.r_coord_range[0], \n",
    "    event_gen.r_coord_range[1],\n",
    "    event_gen.n_stations\n",
    ") # mm\n",
    "\n",
    "hits = []\n",
    "labels = []\n",
    "\n",
    "for track in track_params:\n",
    "    for r in radii:\n",
    "        hit, _ = SPDEventGenerator.generate_hit_by_params(\n",
    "            track_params=track_params[track],\n",
    "            vertex=vertex,\n",
    "            Rc=r,\n",
    "            #magnetic_field=magnetic_field\n",
    "        )\n",
    "\n",
    "        if (hit.x, hit.y, hit.z) == (0, 0, 0):\n",
    "            continue\n",
    "\n",
    "        if not z_coord_range[0] <= hit.z <= z_coord_range[1]:\n",
    "            continue\n",
    "        \n",
    "        hits.append(hit.numpy)\n",
    "        labels.append(track)\n",
    "    \n",
    "hits = np.vstack(hits, dtype=np.float32)\n",
    "labels = np.array(labels, dtype=np.int32)"
   ]
  },
  {
   "cell_type": "code",
   "execution_count": null,
   "metadata": {},
   "outputs": [],
   "source": [
    "draw_event(\n",
    "    hits=hits,\n",
    "    fakes=None,\n",
    "    vertex=vertex.numpy,\n",
    "    labels=labels,\n",
    ")"
   ]
  },
  {
   "cell_type": "markdown",
   "metadata": {},
   "source": [
    "## Visualize generated tracks\n"
   ]
  },
  {
   "cell_type": "code",
   "execution_count": null,
   "outputs": [],
   "source": [
    "from src.model import TRT\n",
    "from src.training import TrainModel\n"
   ],
   "metadata": {
    "collapsed": false
   }
  },
  {
   "cell_type": "code",
   "execution_count": null,
   "outputs": [],
   "source": [],
   "metadata": {
    "collapsed": false
   }
  },
  {
   "cell_type": "code",
   "execution_count": null,
   "outputs": [],
   "source": [
    "from src.normalization import ConstraintsNormalizer, TrackParamsNormalizer\n",
    "from src.postprocess import TracksFromParamsGenerator\n",
    "from src.loss import MatchingLoss, HungarianMatcher\n"
   ],
   "metadata": {
    "collapsed": false
   }
  },
  {
   "cell_type": "code",
   "execution_count": null,
   "outputs": [],
   "source": [
    "hits_generator = TracksFromParamsGenerator(\n",
    "    hits_normalizer=ConstraintsNormalizer(),\n",
    "    params_normalizer=TrackParamsNormalizer(),\n",
    "    n_stations=35,\n",
    ")\n",
    "\n",
    "loss = MatchingLoss(\n",
    "    matcher=HungarianMatcher(class_cost= 0.5, params_cost=2.),\n",
    "    hits_generator=hits_generator,\n",
    "    num_classes=1,\n",
    "    eos_coef=0.2,\n",
    "    losses=[\"labels\", \"params\", \"hits\"])\n"
   ],
   "metadata": {
    "collapsed": false
   }
  },
  {
   "cell_type": "code",
   "execution_count": null,
   "outputs": [],
   "source": [
    "from torch.optim import AdamW\n",
    "base_model = TRT(\n",
    "    num_candidates=20, num_out_params=6, dropout=0.1,n_points=512\n",
    ")\n",
    "model = TrainModel(\n",
    "    model=base_model,\n",
    "    criterion=loss,\n",
    "    metrics=[],\n",
    "    optimizer=AdamW(lr=0.001, params=base_model.parameters())\n",
    ")"
   ],
   "metadata": {
    "collapsed": false
   }
  },
  {
   "cell_type": "code",
   "execution_count": null,
   "outputs": [],
   "source": [
    "PATH = r\"D:\\projects\\trt\\results\\hydra\\2024-06-26\\00-10-24\\TRT\\version_0\\epoch=45-step=57500.ckpt\"\n",
    "model = TrainModel.load_from_checkpoint(\n",
    "    PATH,\n",
    "    model=base_model,\n",
    "    criterion=loss,\n",
    "    metrics=[],\n",
    "    optimizer=AdamW(lr=0.001, params=base_model.parameters()))\n"
   ],
   "metadata": {
    "collapsed": false
   }
  },
  {
   "cell_type": "code",
   "execution_count": null,
   "outputs": [],
   "source": [
    "import torch\n",
    "\n",
    "maxlen = len(hits)\n",
    "batch_size = 1\n",
    "n_features = hits.shape[-1]\n",
    "mask = np.ones(len(hits), dtype=bool)\n",
    "batch_inputs = np.zeros((batch_size, maxlen, n_features), dtype=np.float32)\n",
    "batch_mask = np.zeros((batch_size, maxlen), dtype=bool)\n",
    "# params have the fixed size - MAX_TRACKS x N_PARAMS\n",
    "batch_inputs[0, :len(hits)] = hits\n",
    "batch_mask[0, :len(hits)] = mask\n",
    "\n",
    "inputs = torch.from_numpy(batch_inputs)\n",
    "mask = torch.from_numpy(batch_mask)"
   ],
   "metadata": {
    "collapsed": false
   }
  },
  {
   "cell_type": "code",
   "execution_count": null,
   "outputs": [],
   "source": [
    "preds = model(inputs={\"inputs\": inputs, \"mask\": mask})"
   ],
   "metadata": {
    "collapsed": false
   }
  },
  {
   "cell_type": "code",
   "execution_count": null,
   "outputs": [],
   "source": [
    "source_params = preds[\"params\"]\n",
    "source_charges = torch.argmax(preds[\"logits\"], dim=-1).to(torch.float) * 2 - 1\n",
    "source_charges = source_charges.unsqueeze(-1)\n",
    "source_params = torch.concat((source_params, source_charges), dim=-1)\n",
    "source_tracks, _ = hits_generator.generate_tracks(\n",
    "            source_params.detach().cpu().numpy().squeeze()\n",
    "        )"
   ],
   "metadata": {
    "collapsed": false
   }
  },
  {
   "cell_type": "code",
   "execution_count": null,
   "outputs": [],
   "source": [
    "source_tracks"
   ],
   "metadata": {
    "collapsed": false
   }
  },
  {
   "cell_type": "code",
   "execution_count": null,
   "outputs": [],
   "source": [
    "pred_hits = []\n",
    "pred_labels = []\n",
    "\n",
    "for i, track in enumerate(source_tracks):\n",
    "    pred_labels.append([i for i in range(len(track))])\n",
    "\n",
    "pred_hits = np.vstack(hits, dtype=np.float32)\n",
    "pred_labels = np.array(labels, dtype=np.int32)"
   ],
   "metadata": {
    "collapsed": false
   }
  },
  {
   "cell_type": "code",
   "execution_count": null,
   "outputs": [],
   "source": [
    "pred_labels.shape"
   ],
   "metadata": {
    "collapsed": false
   }
  },
  {
   "cell_type": "code",
   "execution_count": null,
   "outputs": [],
   "source": [
    "draw_event(\n",
    "    hits=hits,\n",
    "    fakes=None,\n",
    "    vertex=vertex.numpy,\n",
    "    predicted_hits=source_tracks,\n",
    "    predicted_tracks=np.array([i for i in range(len(source_tracks))]),\n",
    "    labels=labels,\n",
    ")"
   ],
   "metadata": {
    "collapsed": false
   }
  },
  {
   "cell_type": "code",
   "execution_count": null,
   "outputs": [],
   "source": [],
   "metadata": {
    "collapsed": false,
    "pycharm": {
     "is_executing": true
    }
   }
  },
  {
   "cell_type": "code",
   "execution_count": null,
   "outputs": [],
   "source": [],
   "metadata": {
    "collapsed": false
   }
  }
 ],
 "metadata": {
  "kernelspec": {
   "name": "trt",
   "language": "python",
   "display_name": "trt"
  },
  "language_info": {
   "codemirror_mode": {
    "name": "ipython",
    "version": 3
   },
   "file_extension": ".py",
   "mimetype": "text/x-python",
   "name": "python",
   "nbconvert_exporter": "python",
   "pygments_lexer": "ipython3",
   "version": "3.9.12"
  }
 },
 "nbformat": 4,
 "nbformat_minor": 2
}
